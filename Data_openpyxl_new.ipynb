{
 "cells": [
  {
   "cell_type": "markdown",
   "metadata": {},
   "source": [
    "# Data Manipulation"
   ]
  },
  {
   "cell_type": "markdown",
   "metadata": {},
   "source": [
    "### [A Guide to Excel Spreadsheets in Python With openpyxl](https://realpython.com/openpyxl-excel-spreadsheets-python/)\n",
    "\n",
    "### [Pandas User Guide](https://pandas.pydata.org/pandas-docs/stable/user_guide/)"
   ]
  },
  {
   "cell_type": "code",
   "execution_count": 36,
   "metadata": {},
   "outputs": [],
   "source": [
    "from openpyxl import Workbook"
   ]
  },
  {
   "cell_type": "code",
   "execution_count": 37,
   "metadata": {},
   "outputs": [],
   "source": [
    "from openpyxl import load_workbook"
   ]
  },
  {
   "cell_type": "code",
   "execution_count": 38,
   "metadata": {},
   "outputs": [],
   "source": [
    "workbook = load_workbook(filename=\"/Users/nadezdachikurova/Downloads/housing2b_week1.xlsx\")"
   ]
  },
  {
   "cell_type": "code",
   "execution_count": 132,
   "metadata": {},
   "outputs": [
    {
     "data": {
      "text/plain": [
       "'AL'"
      ]
     },
     "execution_count": 132,
     "metadata": {},
     "output_type": "execute_result"
    }
   ],
   "source": [
    "workbook.sheetnames[1]"
   ]
  },
  {
   "cell_type": "code",
   "execution_count": 39,
   "metadata": {},
   "outputs": [
    {
     "data": {
      "text/plain": [
       "['US',\n",
       " 'AL',\n",
       " 'AK',\n",
       " 'AZ',\n",
       " 'AR',\n",
       " 'CA',\n",
       " 'CO',\n",
       " 'CT',\n",
       " 'DE',\n",
       " 'DC',\n",
       " 'FL',\n",
       " 'GA',\n",
       " 'HI',\n",
       " 'ID',\n",
       " 'IL',\n",
       " 'IN',\n",
       " 'IA',\n",
       " 'KS',\n",
       " 'KY',\n",
       " 'LA',\n",
       " 'ME',\n",
       " 'MD',\n",
       " 'MA',\n",
       " 'MI',\n",
       " 'MN',\n",
       " 'MS',\n",
       " 'MO',\n",
       " 'MT',\n",
       " 'NE',\n",
       " 'NV',\n",
       " 'NH',\n",
       " 'NJ',\n",
       " 'NM',\n",
       " 'NY',\n",
       " 'NC',\n",
       " 'ND',\n",
       " 'OH',\n",
       " 'OK',\n",
       " 'OR',\n",
       " 'PA',\n",
       " 'RI',\n",
       " 'SC',\n",
       " 'SD',\n",
       " 'TN',\n",
       " 'TX',\n",
       " 'UT',\n",
       " 'VT',\n",
       " 'VA',\n",
       " 'WA',\n",
       " 'WV',\n",
       " 'WI',\n",
       " 'WY',\n",
       " 'Boston_Metro_Area',\n",
       " 'Atlanta_Metro_Area',\n",
       " 'Los.Angeles_Metro_Area',\n",
       " 'Phoenix_Metro_Area',\n",
       " 'New.York_Metro_Area',\n",
       " 'San.Francisco_Metro_Area',\n",
       " 'Chicago_Metro_Area',\n",
       " 'Dallas_Metro_Area',\n",
       " 'Riverside_Metro_Area',\n",
       " 'Detroit_Metro_Area',\n",
       " 'Houston_Metro_Area',\n",
       " 'Washington.DC_Metro_Area',\n",
       " 'Philadelphia_Metro_Area',\n",
       " 'Seattle_Metro_Area',\n",
       " 'Miami_Metro_Area']"
      ]
     },
     "execution_count": 39,
     "metadata": {},
     "output_type": "execute_result"
    }
   ],
   "source": [
    "workbook.sheetnames"
   ]
  },
  {
   "cell_type": "code",
   "execution_count": 40,
   "metadata": {},
   "outputs": [
    {
     "data": {
      "text/plain": [
       "<Worksheet \"US\">"
      ]
     },
     "execution_count": 40,
     "metadata": {},
     "output_type": "execute_result"
    }
   ],
   "source": [
    "sheet = workbook.active\n",
    "sheet"
   ]
  },
  {
   "cell_type": "code",
   "execution_count": 41,
   "metadata": {},
   "outputs": [
    {
     "data": {
      "text/plain": [
       "'US'"
      ]
     },
     "execution_count": 41,
     "metadata": {},
     "output_type": "execute_result"
    }
   ],
   "source": [
    "sheet.title"
   ]
  },
  {
   "cell_type": "code",
   "execution_count": 42,
   "metadata": {},
   "outputs": [
    {
     "data": {
      "text/plain": [
       "<Cell 'US'.A1>"
      ]
     },
     "execution_count": 42,
     "metadata": {},
     "output_type": "execute_result"
    }
   ],
   "source": [
    "sheet[\"A1\"]"
   ]
  },
  {
   "cell_type": "code",
   "execution_count": 43,
   "metadata": {},
   "outputs": [
    {
     "data": {
      "text/plain": [
       "\"Housing Table 2b. Confidence in Ability to Make Next Month's Payment for Renter-Occupied Housing Units, by Select Characteristics: United States\""
      ]
     },
     "execution_count": 43,
     "metadata": {},
     "output_type": "execute_result"
    }
   ],
   "source": [
    "sheet[\"A1\"].value"
   ]
  },
  {
   "cell_type": "code",
   "execution_count": 44,
   "metadata": {},
   "outputs": [
    {
     "data": {
      "text/plain": [
       "7623589"
      ]
     },
     "execution_count": 44,
     "metadata": {},
     "output_type": "execute_result"
    }
   ],
   "source": [
    "sheet[\"F10\"].value"
   ]
  },
  {
   "cell_type": "markdown",
   "metadata": {},
   "source": [
    "To return the actual value of a `cell`, you need to do `.value`. Otherwise, you’ll get the main Cell object. You can also use the method `.cell()` to retrieve a cell using index notation. Remember to add .value to get the actual value and not a Cell object:"
   ]
  },
  {
   "cell_type": "code",
   "execution_count": 45,
   "metadata": {},
   "outputs": [
    {
     "data": {
      "text/plain": [
       "<Cell 'US'.F10>"
      ]
     },
     "execution_count": 45,
     "metadata": {},
     "output_type": "execute_result"
    }
   ],
   "source": [
    "sheet.cell(row=10, column=6)"
   ]
  },
  {
   "cell_type": "code",
   "execution_count": 46,
   "metadata": {},
   "outputs": [
    {
     "data": {
      "text/plain": [
       "7623589"
      ]
     },
     "execution_count": 46,
     "metadata": {},
     "output_type": "execute_result"
    }
   ],
   "source": [
    "sheet.cell(row=10, column=6).value"
   ]
  },
  {
   "cell_type": "markdown",
   "metadata": {},
   "source": [
    "## Additional Reading Options\n",
    "There are a few arguments you can pass to `load_workbook()` that change the way a spreadsheet is loaded. The most important ones are the following two Booleans:\n",
    "\n",
    "- `read_only` loads a spreadsheet in read-only mode allowing you to open very large Excel files.\n",
    "- `data_only` ignores loading formulas and instead loads only the resulting values."
   ]
  },
  {
   "cell_type": "markdown",
   "metadata": {},
   "source": [
    "# Importing Data From a Spreadsheet"
   ]
  },
  {
   "cell_type": "markdown",
   "metadata": {},
   "source": [
    "## Iterating Through the Data\n",
    "\n",
    "slicing the data with a combination of columns and rows:"
   ]
  },
  {
   "cell_type": "code",
   "execution_count": 47,
   "metadata": {},
   "outputs": [
    {
     "data": {
      "text/plain": [
       "((<Cell 'US'.A1>, <Cell 'US'.B1>, <Cell 'US'.C1>),\n",
       " (<Cell 'US'.A2>, <Cell 'US'.B2>, <Cell 'US'.C2>))"
      ]
     },
     "execution_count": 47,
     "metadata": {},
     "output_type": "execute_result"
    }
   ],
   "source": [
    "sheet[\"A1:C2\"]"
   ]
  },
  {
   "cell_type": "code",
   "execution_count": 48,
   "metadata": {},
   "outputs": [
    {
     "data": {
      "text/plain": [
       "(<Cell 'US'.A1>,\n",
       " <Cell 'US'.A2>,\n",
       " <Cell 'US'.A3>,\n",
       " <Cell 'US'.A4>,\n",
       " <MergedCell 'US'.A5>,\n",
       " <Cell 'US'.A6>,\n",
       " <Cell 'US'.A7>,\n",
       " <Cell 'US'.A8>,\n",
       " <Cell 'US'.A9>,\n",
       " <Cell 'US'.A10>,\n",
       " <Cell 'US'.A11>,\n",
       " <Cell 'US'.A12>,\n",
       " <Cell 'US'.A13>,\n",
       " <Cell 'US'.A14>,\n",
       " <Cell 'US'.A15>,\n",
       " <Cell 'US'.A16>,\n",
       " <Cell 'US'.A17>,\n",
       " <Cell 'US'.A18>,\n",
       " <Cell 'US'.A19>,\n",
       " <Cell 'US'.A20>,\n",
       " <Cell 'US'.A21>,\n",
       " <Cell 'US'.A22>,\n",
       " <Cell 'US'.A23>,\n",
       " <Cell 'US'.A24>,\n",
       " <Cell 'US'.A25>,\n",
       " <Cell 'US'.A26>,\n",
       " <Cell 'US'.A27>,\n",
       " <Cell 'US'.A28>,\n",
       " <Cell 'US'.A29>,\n",
       " <Cell 'US'.A30>,\n",
       " <Cell 'US'.A31>,\n",
       " <Cell 'US'.A32>,\n",
       " <Cell 'US'.A33>,\n",
       " <Cell 'US'.A34>,\n",
       " <Cell 'US'.A35>,\n",
       " <Cell 'US'.A36>,\n",
       " <Cell 'US'.A37>,\n",
       " <Cell 'US'.A38>,\n",
       " <Cell 'US'.A39>,\n",
       " <Cell 'US'.A40>,\n",
       " <Cell 'US'.A41>,\n",
       " <Cell 'US'.A42>,\n",
       " <Cell 'US'.A43>,\n",
       " <Cell 'US'.A44>,\n",
       " <Cell 'US'.A45>,\n",
       " <Cell 'US'.A46>,\n",
       " <Cell 'US'.A47>,\n",
       " <Cell 'US'.A48>,\n",
       " <Cell 'US'.A49>,\n",
       " <Cell 'US'.A50>,\n",
       " <Cell 'US'.A51>,\n",
       " <Cell 'US'.A52>,\n",
       " <Cell 'US'.A53>,\n",
       " <Cell 'US'.A54>)"
      ]
     },
     "execution_count": 48,
     "metadata": {},
     "output_type": "execute_result"
    }
   ],
   "source": [
    "# Get all cells from column A\n",
    "sheet[\"A\"]"
   ]
  },
  {
   "cell_type": "code",
   "execution_count": 49,
   "metadata": {},
   "outputs": [
    {
     "data": {
      "text/plain": [
       "((<Cell 'US'.A1>,\n",
       "  <Cell 'US'.A2>,\n",
       "  <Cell 'US'.A3>,\n",
       "  <Cell 'US'.A4>,\n",
       "  <MergedCell 'US'.A5>,\n",
       "  <Cell 'US'.A6>,\n",
       "  <Cell 'US'.A7>,\n",
       "  <Cell 'US'.A8>,\n",
       "  <Cell 'US'.A9>,\n",
       "  <Cell 'US'.A10>,\n",
       "  <Cell 'US'.A11>,\n",
       "  <Cell 'US'.A12>,\n",
       "  <Cell 'US'.A13>,\n",
       "  <Cell 'US'.A14>,\n",
       "  <Cell 'US'.A15>,\n",
       "  <Cell 'US'.A16>,\n",
       "  <Cell 'US'.A17>,\n",
       "  <Cell 'US'.A18>,\n",
       "  <Cell 'US'.A19>,\n",
       "  <Cell 'US'.A20>,\n",
       "  <Cell 'US'.A21>,\n",
       "  <Cell 'US'.A22>,\n",
       "  <Cell 'US'.A23>,\n",
       "  <Cell 'US'.A24>,\n",
       "  <Cell 'US'.A25>,\n",
       "  <Cell 'US'.A26>,\n",
       "  <Cell 'US'.A27>,\n",
       "  <Cell 'US'.A28>,\n",
       "  <Cell 'US'.A29>,\n",
       "  <Cell 'US'.A30>,\n",
       "  <Cell 'US'.A31>,\n",
       "  <Cell 'US'.A32>,\n",
       "  <Cell 'US'.A33>,\n",
       "  <Cell 'US'.A34>,\n",
       "  <Cell 'US'.A35>,\n",
       "  <Cell 'US'.A36>,\n",
       "  <Cell 'US'.A37>,\n",
       "  <Cell 'US'.A38>,\n",
       "  <Cell 'US'.A39>,\n",
       "  <Cell 'US'.A40>,\n",
       "  <Cell 'US'.A41>,\n",
       "  <Cell 'US'.A42>,\n",
       "  <Cell 'US'.A43>,\n",
       "  <Cell 'US'.A44>,\n",
       "  <Cell 'US'.A45>,\n",
       "  <Cell 'US'.A46>,\n",
       "  <Cell 'US'.A47>,\n",
       "  <Cell 'US'.A48>,\n",
       "  <Cell 'US'.A49>,\n",
       "  <Cell 'US'.A50>,\n",
       "  <Cell 'US'.A51>,\n",
       "  <Cell 'US'.A52>,\n",
       "  <Cell 'US'.A53>,\n",
       "  <Cell 'US'.A54>),\n",
       " (<Cell 'US'.B1>,\n",
       "  <Cell 'US'.B2>,\n",
       "  <Cell 'US'.B3>,\n",
       "  <Cell 'US'.B4>,\n",
       "  <MergedCell 'US'.B5>,\n",
       "  <Cell 'US'.B6>,\n",
       "  <Cell 'US'.B7>,\n",
       "  <Cell 'US'.B8>,\n",
       "  <Cell 'US'.B9>,\n",
       "  <Cell 'US'.B10>,\n",
       "  <Cell 'US'.B11>,\n",
       "  <Cell 'US'.B12>,\n",
       "  <Cell 'US'.B13>,\n",
       "  <Cell 'US'.B14>,\n",
       "  <Cell 'US'.B15>,\n",
       "  <Cell 'US'.B16>,\n",
       "  <Cell 'US'.B17>,\n",
       "  <Cell 'US'.B18>,\n",
       "  <Cell 'US'.B19>,\n",
       "  <Cell 'US'.B20>,\n",
       "  <Cell 'US'.B21>,\n",
       "  <Cell 'US'.B22>,\n",
       "  <Cell 'US'.B23>,\n",
       "  <Cell 'US'.B24>,\n",
       "  <Cell 'US'.B25>,\n",
       "  <Cell 'US'.B26>,\n",
       "  <Cell 'US'.B27>,\n",
       "  <Cell 'US'.B28>,\n",
       "  <Cell 'US'.B29>,\n",
       "  <Cell 'US'.B30>,\n",
       "  <Cell 'US'.B31>,\n",
       "  <Cell 'US'.B32>,\n",
       "  <Cell 'US'.B33>,\n",
       "  <Cell 'US'.B34>,\n",
       "  <Cell 'US'.B35>,\n",
       "  <Cell 'US'.B36>,\n",
       "  <Cell 'US'.B37>,\n",
       "  <Cell 'US'.B38>,\n",
       "  <Cell 'US'.B39>,\n",
       "  <Cell 'US'.B40>,\n",
       "  <Cell 'US'.B41>,\n",
       "  <Cell 'US'.B42>,\n",
       "  <Cell 'US'.B43>,\n",
       "  <Cell 'US'.B44>,\n",
       "  <Cell 'US'.B45>,\n",
       "  <Cell 'US'.B46>,\n",
       "  <Cell 'US'.B47>,\n",
       "  <Cell 'US'.B48>,\n",
       "  <Cell 'US'.B49>,\n",
       "  <Cell 'US'.B50>,\n",
       "  <Cell 'US'.B51>,\n",
       "  <Cell 'US'.B52>,\n",
       "  <Cell 'US'.B53>,\n",
       "  <Cell 'US'.B54>))"
      ]
     },
     "execution_count": 49,
     "metadata": {},
     "output_type": "execute_result"
    }
   ],
   "source": [
    "# Get all cells for a range of columns\n",
    "sheet[\"A:B\"]"
   ]
  },
  {
   "cell_type": "code",
   "execution_count": 50,
   "metadata": {},
   "outputs": [
    {
     "data": {
      "text/plain": [
       "((<MergedCell 'US'.A5>,\n",
       "  <MergedCell 'US'.B5>,\n",
       "  <MergedCell 'US'.C5>,\n",
       "  <Cell 'US'.D5>,\n",
       "  <Cell 'US'.E5>,\n",
       "  <Cell 'US'.F5>,\n",
       "  <Cell 'US'.G5>,\n",
       "  <Cell 'US'.H5>,\n",
       "  <Cell 'US'.I5>,\n",
       "  <MergedCell 'US'.J5>),\n",
       " (<Cell 'US'.A6>,\n",
       "  <Cell 'US'.B6>,\n",
       "  <Cell 'US'.C6>,\n",
       "  <Cell 'US'.D6>,\n",
       "  <Cell 'US'.E6>,\n",
       "  <Cell 'US'.F6>,\n",
       "  <Cell 'US'.G6>,\n",
       "  <Cell 'US'.H6>,\n",
       "  <Cell 'US'.I6>,\n",
       "  <Cell 'US'.J6>))"
      ]
     },
     "execution_count": 50,
     "metadata": {},
     "output_type": "execute_result"
    }
   ],
   "source": [
    "# Get all cells for a range of rows\n",
    "sheet[5:6]"
   ]
  },
  {
   "cell_type": "markdown",
   "metadata": {},
   "source": [
    "You’ll notice that all of the above examples return a `tuple`. If you want to refresh your memory on how to handle tuples in Python, check out the article on [Lists and Tuples in Python](https://realpython.com/python-lists-tuples/#python-tuples).\n",
    "\n"
   ]
  },
  {
   "cell_type": "markdown",
   "metadata": {},
   "source": [
    "There are also multiple ways of using normal Python [generators](https://realpython.com/introduction-to-python-generators/) to go through the data. The main methods you can use to achieve this are:\n",
    "\n",
    "- `iter_rows()`\n",
    "- `iter_cols()`\n",
    "\n",
    "Both methods can receive the following arguments:\n",
    "\n",
    "- `min_row`\n",
    "- `max_row`\n",
    "- `min_col`\n",
    "- `max_col`\n",
    "\n",
    "These arguments are used to set boundaries for the iteration:"
   ]
  },
  {
   "cell_type": "markdown",
   "metadata": {},
   "source": [
    "### [Documentation](https://openpyxl.readthedocs.io/en/stable/api/openpyxl.worksheet.worksheet.html) "
   ]
  },
  {
   "cell_type": "code",
   "execution_count": 51,
   "metadata": {},
   "outputs": [
    {
     "name": "stdout",
     "output_type": "stream",
     "text": [
      "(<Cell 'US'.A1>, <Cell 'US'.B1>, <Cell 'US'.C1>)\n",
      "(<Cell 'US'.A2>, <Cell 'US'.B2>, <Cell 'US'.C2>)\n"
     ]
    }
   ],
   "source": [
    "for row in sheet.iter_rows(min_row=1,\n",
    "                        max_row=2,\n",
    "                        min_col=1,\n",
    "                        max_col=3):\n",
    "    print(row)"
   ]
  },
  {
   "cell_type": "code",
   "execution_count": 52,
   "metadata": {},
   "outputs": [
    {
     "name": "stdout",
     "output_type": "stream",
     "text": [
      "(<Cell 'US'.A1>, <Cell 'US'.A2>)\n",
      "(<Cell 'US'.B1>, <Cell 'US'.B2>)\n",
      "(<Cell 'US'.C1>, <Cell 'US'.C2>)\n"
     ]
    }
   ],
   "source": [
    "for column in sheet.iter_cols(min_row=1,\n",
    "                        max_row=2,\n",
    "                        min_col=1,\n",
    "                        max_col=3):\n",
    "    print(column)"
   ]
  },
  {
   "cell_type": "markdown",
   "metadata": {},
   "source": [
    "You’ll notice that in the first example, when iterating through the rows using `.iter_rows()`, you get one `tuple` element per row selected. While when using `.iter_cols()` and iterating through columns, you’ll get one `tuple` per column instead.\n",
    "\n",
    "One additional argument you can pass to both methods is the Boolean `values_only`. When it’s set to `True`, the values of the cell are returned, instead of the `Cell` object:"
   ]
  },
  {
   "cell_type": "code",
   "execution_count": 60,
   "metadata": {},
   "outputs": [
    {
     "name": "stdout",
     "output_type": "stream",
     "text": [
      "(\"Housing Table 2b. Confidence in Ability to Make Next Month's Payment for Renter-Occupied Housing Units, by Select Characteristics: United States\", None, None)\n",
      "('Source: U.S. Census Bureau Household Pulse Survey, Week 1.', None, None)\n"
     ]
    }
   ],
   "source": [
    "for value in sheet.iter_rows(min_row=1,\n",
    "                        max_row=2,\n",
    "                        min_col=1,\n",
    "                        max_col=3,\n",
    "                        values_only=True\n",
    "                            ):\n",
    "     print(value)\n",
    "        \n",
    "# values_only gives an error 'iter_rows() got an unexpected keyword argument 'values_only'\n",
    "# to get rid of this error I installed new version of openpyxl and it still doesn't work :(, \n",
    "# worked after reloading Jupyter Notebook\n",
    "\n",
    "# possible error working with merged cells 'AttributeError: 'MergedCell' object has no attribute 'value' (max_row=7)\n"
   ]
  },
  {
   "cell_type": "code",
   "execution_count": 64,
   "metadata": {},
   "outputs": [
    {
     "name": "stdout",
     "output_type": "stream",
     "text": [
      "('Total', 75266101, 3798689, 8918242, 12571649, 18070862, 30643777, 938815, 324066, 26676331)\n",
      "('Age ', None, None, None, None, None, None, None, None, None)\n",
      "('    18 - 24', 7313446, 286454, 639268, 1172462, 2366278, 2756071, 72011, 20902, 2625570)\n",
      "('    25 - 39', 33959243, 1546625, 4399374, 5968053, 7623589, 13842252, 500551, 78798, 8137828)\n"
     ]
    }
   ],
   "source": [
    "for value in sheet.iter_rows(min_row=7,\n",
    "                        max_row=10,\n",
    "                        min_col=0,\n",
    "                        max_col=10,\n",
    "                        values_only=True\n",
    "                            ):\n",
    "     print(value)"
   ]
  },
  {
   "cell_type": "code",
   "execution_count": 65,
   "metadata": {},
   "outputs": [
    {
     "name": "stdout",
     "output_type": "stream",
     "text": [
      "\n",
      "The following command must be run outside of the IPython shell:\n",
      "\n",
      "    $ pip install -U openpyxl\n",
      "\n",
      "The Python package manager (pip) can only be used from outside of IPython.\n",
      "Please reissue the `pip` command in a separate terminal or command prompt.\n",
      "\n",
      "See the Python documentation for more information on how to install packages:\n",
      "\n",
      "    https://docs.python.org/3/installing/\n"
     ]
    }
   ],
   "source": [
    "pip install -U openpyxl"
   ]
  },
  {
   "cell_type": "markdown",
   "metadata": {},
   "source": [
    "This code returns a list of all the column names you have in the spreadsheet. To start, grab the columns with names.\n",
    "\n",
    "If the columns you need are all next to each other so you can use the min_column and max_column to easily get the data you want:"
   ]
  },
  {
   "cell_type": "code",
   "execution_count": 67,
   "metadata": {},
   "outputs": [],
   "source": [
    "# for value in sheet.iter_rows(min_row=1, # before row 8 my data has merged cells\n",
    "#                              min_col=1,\n",
    "#                              max_col=9,\n",
    "#                              values_only=True\n",
    "#                             ):\n",
    "#     print(value)"
   ]
  },
  {
   "cell_type": "markdown",
   "metadata": {},
   "source": [
    "If you want to iterate through the whole dataset, then you can also use the attributes `.rows` or `.columns` directly, which are shortcuts to using `.iter_rows()` and `.iter_cols()` without any arguments:"
   ]
  },
  {
   "cell_type": "code",
   "execution_count": 68,
   "metadata": {},
   "outputs": [
    {
     "name": "stdout",
     "output_type": "stream",
     "text": [
      "(<Cell 'US'.A1>, <Cell 'US'.B1>, <Cell 'US'.C1>, <Cell 'US'.D1>, <Cell 'US'.E1>, <Cell 'US'.F1>, <Cell 'US'.G1>, <Cell 'US'.H1>, <Cell 'US'.I1>, <Cell 'US'.J1>, <Cell 'US'.K1>)\n",
      "(<Cell 'US'.A2>, <Cell 'US'.B2>, <Cell 'US'.C2>, <Cell 'US'.D2>, <Cell 'US'.E2>, <Cell 'US'.F2>, <Cell 'US'.G2>, <Cell 'US'.H2>, <Cell 'US'.I2>, <Cell 'US'.J2>, <Cell 'US'.K2>)\n",
      "(<Cell 'US'.A3>, <Cell 'US'.B3>, <Cell 'US'.C3>, <Cell 'US'.D3>, <Cell 'US'.E3>, <Cell 'US'.F3>, <Cell 'US'.G3>, <Cell 'US'.H3>, <Cell 'US'.I3>, <Cell 'US'.J3>, <Cell 'US'.K3>)\n",
      "(<Cell 'US'.A4>, <Cell 'US'.B4>, <Cell 'US'.C4>, <Cell 'US'.D4>, <MergedCell 'US'.E4>, <MergedCell 'US'.F4>, <MergedCell 'US'.G4>, <MergedCell 'US'.H4>, <MergedCell 'US'.I4>, <Cell 'US'.J4>, <Cell 'US'.K4>)\n",
      "(<MergedCell 'US'.A5>, <MergedCell 'US'.B5>, <MergedCell 'US'.C5>, <Cell 'US'.D5>, <Cell 'US'.E5>, <Cell 'US'.F5>, <Cell 'US'.G5>, <Cell 'US'.H5>, <Cell 'US'.I5>, <MergedCell 'US'.J5>, <Cell 'US'.K5>)\n",
      "(<Cell 'US'.A6>, <Cell 'US'.B6>, <Cell 'US'.C6>, <Cell 'US'.D6>, <Cell 'US'.E6>, <Cell 'US'.F6>, <Cell 'US'.G6>, <Cell 'US'.H6>, <Cell 'US'.I6>, <Cell 'US'.J6>, <Cell 'US'.K6>)\n",
      "(<Cell 'US'.A7>, <Cell 'US'.B7>, <Cell 'US'.C7>, <Cell 'US'.D7>, <Cell 'US'.E7>, <Cell 'US'.F7>, <Cell 'US'.G7>, <Cell 'US'.H7>, <Cell 'US'.I7>, <Cell 'US'.J7>, <Cell 'US'.K7>)\n",
      "(<Cell 'US'.A8>, <Cell 'US'.B8>, <Cell 'US'.C8>, <Cell 'US'.D8>, <Cell 'US'.E8>, <Cell 'US'.F8>, <Cell 'US'.G8>, <Cell 'US'.H8>, <Cell 'US'.I8>, <Cell 'US'.J8>, <Cell 'US'.K8>)\n",
      "(<Cell 'US'.A9>, <Cell 'US'.B9>, <Cell 'US'.C9>, <Cell 'US'.D9>, <Cell 'US'.E9>, <Cell 'US'.F9>, <Cell 'US'.G9>, <Cell 'US'.H9>, <Cell 'US'.I9>, <Cell 'US'.J9>, <Cell 'US'.K9>)\n",
      "(<Cell 'US'.A10>, <Cell 'US'.B10>, <Cell 'US'.C10>, <Cell 'US'.D10>, <Cell 'US'.E10>, <Cell 'US'.F10>, <Cell 'US'.G10>, <Cell 'US'.H10>, <Cell 'US'.I10>, <Cell 'US'.J10>, <Cell 'US'.K10>)\n",
      "(<Cell 'US'.A11>, <Cell 'US'.B11>, <Cell 'US'.C11>, <Cell 'US'.D11>, <Cell 'US'.E11>, <Cell 'US'.F11>, <Cell 'US'.G11>, <Cell 'US'.H11>, <Cell 'US'.I11>, <Cell 'US'.J11>, <Cell 'US'.K11>)\n",
      "(<Cell 'US'.A12>, <Cell 'US'.B12>, <Cell 'US'.C12>, <Cell 'US'.D12>, <Cell 'US'.E12>, <Cell 'US'.F12>, <Cell 'US'.G12>, <Cell 'US'.H12>, <Cell 'US'.I12>, <Cell 'US'.J12>, <Cell 'US'.K12>)\n",
      "(<Cell 'US'.A13>, <Cell 'US'.B13>, <Cell 'US'.C13>, <Cell 'US'.D13>, <Cell 'US'.E13>, <Cell 'US'.F13>, <Cell 'US'.G13>, <Cell 'US'.H13>, <Cell 'US'.I13>, <Cell 'US'.J13>, <Cell 'US'.K13>)\n",
      "(<Cell 'US'.A14>, <Cell 'US'.B14>, <Cell 'US'.C14>, <Cell 'US'.D14>, <Cell 'US'.E14>, <Cell 'US'.F14>, <Cell 'US'.G14>, <Cell 'US'.H14>, <Cell 'US'.I14>, <Cell 'US'.J14>, <Cell 'US'.K14>)\n",
      "(<Cell 'US'.A15>, <Cell 'US'.B15>, <Cell 'US'.C15>, <Cell 'US'.D15>, <Cell 'US'.E15>, <Cell 'US'.F15>, <Cell 'US'.G15>, <Cell 'US'.H15>, <Cell 'US'.I15>, <Cell 'US'.J15>, <Cell 'US'.K15>)\n",
      "(<Cell 'US'.A16>, <Cell 'US'.B16>, <Cell 'US'.C16>, <Cell 'US'.D16>, <Cell 'US'.E16>, <Cell 'US'.F16>, <Cell 'US'.G16>, <Cell 'US'.H16>, <Cell 'US'.I16>, <Cell 'US'.J16>, <Cell 'US'.K16>)\n",
      "(<Cell 'US'.A17>, <Cell 'US'.B17>, <Cell 'US'.C17>, <Cell 'US'.D17>, <Cell 'US'.E17>, <Cell 'US'.F17>, <Cell 'US'.G17>, <Cell 'US'.H17>, <Cell 'US'.I17>, <Cell 'US'.J17>, <Cell 'US'.K17>)\n",
      "(<Cell 'US'.A18>, <Cell 'US'.B18>, <Cell 'US'.C18>, <Cell 'US'.D18>, <Cell 'US'.E18>, <Cell 'US'.F18>, <Cell 'US'.G18>, <Cell 'US'.H18>, <Cell 'US'.I18>, <Cell 'US'.J18>, <Cell 'US'.K18>)\n",
      "(<Cell 'US'.A19>, <Cell 'US'.B19>, <Cell 'US'.C19>, <Cell 'US'.D19>, <Cell 'US'.E19>, <Cell 'US'.F19>, <Cell 'US'.G19>, <Cell 'US'.H19>, <Cell 'US'.I19>, <Cell 'US'.J19>, <Cell 'US'.K19>)\n",
      "(<Cell 'US'.A20>, <Cell 'US'.B20>, <Cell 'US'.C20>, <Cell 'US'.D20>, <Cell 'US'.E20>, <Cell 'US'.F20>, <Cell 'US'.G20>, <Cell 'US'.H20>, <Cell 'US'.I20>, <Cell 'US'.J20>, <Cell 'US'.K20>)\n",
      "(<Cell 'US'.A21>, <Cell 'US'.B21>, <Cell 'US'.C21>, <Cell 'US'.D21>, <Cell 'US'.E21>, <Cell 'US'.F21>, <Cell 'US'.G21>, <Cell 'US'.H21>, <Cell 'US'.I21>, <Cell 'US'.J21>, <Cell 'US'.K21>)\n",
      "(<Cell 'US'.A22>, <Cell 'US'.B22>, <Cell 'US'.C22>, <Cell 'US'.D22>, <Cell 'US'.E22>, <Cell 'US'.F22>, <Cell 'US'.G22>, <Cell 'US'.H22>, <Cell 'US'.I22>, <Cell 'US'.J22>, <Cell 'US'.K22>)\n",
      "(<Cell 'US'.A23>, <Cell 'US'.B23>, <Cell 'US'.C23>, <Cell 'US'.D23>, <Cell 'US'.E23>, <Cell 'US'.F23>, <Cell 'US'.G23>, <Cell 'US'.H23>, <Cell 'US'.I23>, <Cell 'US'.J23>, <Cell 'US'.K23>)\n",
      "(<Cell 'US'.A24>, <Cell 'US'.B24>, <Cell 'US'.C24>, <Cell 'US'.D24>, <Cell 'US'.E24>, <Cell 'US'.F24>, <Cell 'US'.G24>, <Cell 'US'.H24>, <Cell 'US'.I24>, <Cell 'US'.J24>, <Cell 'US'.K24>)\n",
      "(<Cell 'US'.A25>, <Cell 'US'.B25>, <Cell 'US'.C25>, <Cell 'US'.D25>, <Cell 'US'.E25>, <Cell 'US'.F25>, <Cell 'US'.G25>, <Cell 'US'.H25>, <Cell 'US'.I25>, <Cell 'US'.J25>, <Cell 'US'.K25>)\n",
      "(<Cell 'US'.A26>, <Cell 'US'.B26>, <Cell 'US'.C26>, <Cell 'US'.D26>, <Cell 'US'.E26>, <Cell 'US'.F26>, <Cell 'US'.G26>, <Cell 'US'.H26>, <Cell 'US'.I26>, <Cell 'US'.J26>, <Cell 'US'.K26>)\n",
      "(<Cell 'US'.A27>, <Cell 'US'.B27>, <Cell 'US'.C27>, <Cell 'US'.D27>, <Cell 'US'.E27>, <Cell 'US'.F27>, <Cell 'US'.G27>, <Cell 'US'.H27>, <Cell 'US'.I27>, <Cell 'US'.J27>, <Cell 'US'.K27>)\n",
      "(<Cell 'US'.A28>, <Cell 'US'.B28>, <Cell 'US'.C28>, <Cell 'US'.D28>, <Cell 'US'.E28>, <Cell 'US'.F28>, <Cell 'US'.G28>, <Cell 'US'.H28>, <Cell 'US'.I28>, <Cell 'US'.J28>, <Cell 'US'.K28>)\n",
      "(<Cell 'US'.A29>, <Cell 'US'.B29>, <Cell 'US'.C29>, <Cell 'US'.D29>, <Cell 'US'.E29>, <Cell 'US'.F29>, <Cell 'US'.G29>, <Cell 'US'.H29>, <Cell 'US'.I29>, <Cell 'US'.J29>, <Cell 'US'.K29>)\n",
      "(<Cell 'US'.A30>, <Cell 'US'.B30>, <Cell 'US'.C30>, <Cell 'US'.D30>, <Cell 'US'.E30>, <Cell 'US'.F30>, <Cell 'US'.G30>, <Cell 'US'.H30>, <Cell 'US'.I30>, <Cell 'US'.J30>, <Cell 'US'.K30>)\n",
      "(<Cell 'US'.A31>, <Cell 'US'.B31>, <Cell 'US'.C31>, <Cell 'US'.D31>, <Cell 'US'.E31>, <Cell 'US'.F31>, <Cell 'US'.G31>, <Cell 'US'.H31>, <Cell 'US'.I31>, <Cell 'US'.J31>, <Cell 'US'.K31>)\n",
      "(<Cell 'US'.A32>, <Cell 'US'.B32>, <Cell 'US'.C32>, <Cell 'US'.D32>, <Cell 'US'.E32>, <Cell 'US'.F32>, <Cell 'US'.G32>, <Cell 'US'.H32>, <Cell 'US'.I32>, <Cell 'US'.J32>, <Cell 'US'.K32>)\n",
      "(<Cell 'US'.A33>, <Cell 'US'.B33>, <Cell 'US'.C33>, <Cell 'US'.D33>, <Cell 'US'.E33>, <Cell 'US'.F33>, <Cell 'US'.G33>, <Cell 'US'.H33>, <Cell 'US'.I33>, <Cell 'US'.J33>, <Cell 'US'.K33>)\n",
      "(<Cell 'US'.A34>, <Cell 'US'.B34>, <Cell 'US'.C34>, <Cell 'US'.D34>, <Cell 'US'.E34>, <Cell 'US'.F34>, <Cell 'US'.G34>, <Cell 'US'.H34>, <Cell 'US'.I34>, <Cell 'US'.J34>, <Cell 'US'.K34>)\n",
      "(<Cell 'US'.A35>, <Cell 'US'.B35>, <Cell 'US'.C35>, <Cell 'US'.D35>, <Cell 'US'.E35>, <Cell 'US'.F35>, <Cell 'US'.G35>, <Cell 'US'.H35>, <Cell 'US'.I35>, <Cell 'US'.J35>, <Cell 'US'.K35>)\n",
      "(<Cell 'US'.A36>, <Cell 'US'.B36>, <Cell 'US'.C36>, <Cell 'US'.D36>, <Cell 'US'.E36>, <Cell 'US'.F36>, <Cell 'US'.G36>, <Cell 'US'.H36>, <Cell 'US'.I36>, <Cell 'US'.J36>, <Cell 'US'.K36>)\n",
      "(<Cell 'US'.A37>, <Cell 'US'.B37>, <Cell 'US'.C37>, <Cell 'US'.D37>, <Cell 'US'.E37>, <Cell 'US'.F37>, <Cell 'US'.G37>, <Cell 'US'.H37>, <Cell 'US'.I37>, <Cell 'US'.J37>, <Cell 'US'.K37>)\n",
      "(<Cell 'US'.A38>, <Cell 'US'.B38>, <Cell 'US'.C38>, <Cell 'US'.D38>, <Cell 'US'.E38>, <Cell 'US'.F38>, <Cell 'US'.G38>, <Cell 'US'.H38>, <Cell 'US'.I38>, <Cell 'US'.J38>, <Cell 'US'.K38>)\n",
      "(<Cell 'US'.A39>, <Cell 'US'.B39>, <Cell 'US'.C39>, <Cell 'US'.D39>, <Cell 'US'.E39>, <Cell 'US'.F39>, <Cell 'US'.G39>, <Cell 'US'.H39>, <Cell 'US'.I39>, <Cell 'US'.J39>, <Cell 'US'.K39>)\n",
      "(<Cell 'US'.A40>, <Cell 'US'.B40>, <Cell 'US'.C40>, <Cell 'US'.D40>, <Cell 'US'.E40>, <Cell 'US'.F40>, <Cell 'US'.G40>, <Cell 'US'.H40>, <Cell 'US'.I40>, <Cell 'US'.J40>, <Cell 'US'.K40>)\n",
      "(<Cell 'US'.A41>, <Cell 'US'.B41>, <Cell 'US'.C41>, <Cell 'US'.D41>, <Cell 'US'.E41>, <Cell 'US'.F41>, <Cell 'US'.G41>, <Cell 'US'.H41>, <Cell 'US'.I41>, <Cell 'US'.J41>, <Cell 'US'.K41>)\n",
      "(<Cell 'US'.A42>, <Cell 'US'.B42>, <Cell 'US'.C42>, <Cell 'US'.D42>, <Cell 'US'.E42>, <Cell 'US'.F42>, <Cell 'US'.G42>, <Cell 'US'.H42>, <Cell 'US'.I42>, <Cell 'US'.J42>, <Cell 'US'.K42>)\n",
      "(<Cell 'US'.A43>, <Cell 'US'.B43>, <Cell 'US'.C43>, <Cell 'US'.D43>, <Cell 'US'.E43>, <Cell 'US'.F43>, <Cell 'US'.G43>, <Cell 'US'.H43>, <Cell 'US'.I43>, <Cell 'US'.J43>, <Cell 'US'.K43>)\n",
      "(<Cell 'US'.A44>, <Cell 'US'.B44>, <Cell 'US'.C44>, <Cell 'US'.D44>, <Cell 'US'.E44>, <Cell 'US'.F44>, <Cell 'US'.G44>, <Cell 'US'.H44>, <Cell 'US'.I44>, <Cell 'US'.J44>, <Cell 'US'.K44>)\n",
      "(<Cell 'US'.A45>, <Cell 'US'.B45>, <Cell 'US'.C45>, <Cell 'US'.D45>, <Cell 'US'.E45>, <Cell 'US'.F45>, <Cell 'US'.G45>, <Cell 'US'.H45>, <Cell 'US'.I45>, <Cell 'US'.J45>, <Cell 'US'.K45>)\n",
      "(<Cell 'US'.A46>, <Cell 'US'.B46>, <Cell 'US'.C46>, <Cell 'US'.D46>, <Cell 'US'.E46>, <Cell 'US'.F46>, <Cell 'US'.G46>, <Cell 'US'.H46>, <Cell 'US'.I46>, <Cell 'US'.J46>, <Cell 'US'.K46>)\n",
      "(<Cell 'US'.A47>, <Cell 'US'.B47>, <Cell 'US'.C47>, <Cell 'US'.D47>, <Cell 'US'.E47>, <Cell 'US'.F47>, <Cell 'US'.G47>, <Cell 'US'.H47>, <Cell 'US'.I47>, <Cell 'US'.J47>, <Cell 'US'.K47>)\n",
      "(<Cell 'US'.A48>, <Cell 'US'.B48>, <Cell 'US'.C48>, <Cell 'US'.D48>, <Cell 'US'.E48>, <Cell 'US'.F48>, <Cell 'US'.G48>, <Cell 'US'.H48>, <Cell 'US'.I48>, <Cell 'US'.J48>, <Cell 'US'.K48>)\n",
      "(<Cell 'US'.A49>, <Cell 'US'.B49>, <Cell 'US'.C49>, <Cell 'US'.D49>, <Cell 'US'.E49>, <Cell 'US'.F49>, <Cell 'US'.G49>, <Cell 'US'.H49>, <Cell 'US'.I49>, <Cell 'US'.J49>, <Cell 'US'.K49>)\n",
      "(<Cell 'US'.A50>, <Cell 'US'.B50>, <Cell 'US'.C50>, <Cell 'US'.D50>, <Cell 'US'.E50>, <Cell 'US'.F50>, <Cell 'US'.G50>, <Cell 'US'.H50>, <Cell 'US'.I50>, <Cell 'US'.J50>, <Cell 'US'.K50>)\n",
      "(<Cell 'US'.A51>, <Cell 'US'.B51>, <Cell 'US'.C51>, <Cell 'US'.D51>, <Cell 'US'.E51>, <Cell 'US'.F51>, <Cell 'US'.G51>, <Cell 'US'.H51>, <Cell 'US'.I51>, <Cell 'US'.J51>, <Cell 'US'.K51>)\n",
      "(<Cell 'US'.A52>, <Cell 'US'.B52>, <Cell 'US'.C52>, <Cell 'US'.D52>, <Cell 'US'.E52>, <Cell 'US'.F52>, <Cell 'US'.G52>, <Cell 'US'.H52>, <Cell 'US'.I52>, <Cell 'US'.J52>, <Cell 'US'.K52>)\n",
      "(<Cell 'US'.A53>, <Cell 'US'.B53>, <Cell 'US'.C53>, <Cell 'US'.D53>, <Cell 'US'.E53>, <Cell 'US'.F53>, <Cell 'US'.G53>, <Cell 'US'.H53>, <Cell 'US'.I53>, <Cell 'US'.J53>, <Cell 'US'.K53>)\n",
      "(<Cell 'US'.A54>, <Cell 'US'.B54>, <Cell 'US'.C54>, <Cell 'US'.D54>, <Cell 'US'.E54>, <Cell 'US'.F54>, <Cell 'US'.G54>, <Cell 'US'.H54>, <Cell 'US'.I54>, <Cell 'US'.J54>, <Cell 'US'.K54>)\n"
     ]
    }
   ],
   "source": [
    "for row in sheet.rows:\n",
    "     print(row)"
   ]
  },
  {
   "cell_type": "markdown",
   "metadata": {},
   "source": [
    "These shortcuts are very useful when you’re iterating through the whole dataset."
   ]
  },
  {
   "cell_type": "markdown",
   "metadata": {},
   "source": [
    "### Manipulate Data Using Python’s Default Data Structures"
   ]
  },
  {
   "cell_type": "code",
   "execution_count": 72,
   "metadata": {},
   "outputs": [
    {
     "name": "stdout",
     "output_type": "stream",
     "text": [
      "('Total', 75266101, 3798689, 8918242, 12571649, 18070862, 30643777, 938815, 324066, 26676331, None)\n",
      "('Age ', None, None, None, None, None, None, None, None, None, None)\n"
     ]
    }
   ],
   "source": [
    "for value in sheet.iter_rows(min_row=7,\n",
    "                    max_row=8,\n",
    "                    min_col=0,\n",
    "                    max_col=11,\n",
    "                    values_only=True\n",
    "                            ):\n",
    "     print(value)  # data has only 10 columns thats why 11th value shows at none"
   ]
  },
  {
   "cell_type": "code",
   "execution_count": 73,
   "metadata": {},
   "outputs": [
    {
     "name": "stdout",
     "output_type": "stream",
     "text": [
      "('Total', 75266101, 3798689, 8918242, 12571649, 18070862, 30643777, 938815, 324066, 26676331)\n",
      "('Age ', None, None, None, None, None, None, None, None, None)\n"
     ]
    }
   ],
   "source": [
    "for value in sheet.iter_rows(min_row=7,\n",
    "                    max_row=8,\n",
    "                    min_col=0,\n",
    "                    max_col=10,\n",
    "                    values_only=True\n",
    "                            ):\n",
    "     print(value)"
   ]
  },
  {
   "cell_type": "code",
   "execution_count": 134,
   "metadata": {},
   "outputs": [
    {
     "name": "stdout",
     "output_type": "stream",
     "text": [
      "{\"Total\": {\"total\": 75266101, \"wrent\": 3798689, \"noconf\": 8918242, \"slightconf\": 12571649, \"modconf\": 18070862, \"highconf\": 30643777, \"deferred\": 938815, \"didnotrep\": 324066, \"didnottenure\": 26676331}, \"Age \": {\"total\": null, \"wrent\": null, \"noconf\": null, \"slightconf\": null, \"modconf\": null, \"highconf\": null, \"deferred\": null, \"didnotrep\": null, \"didnottenure\": null}, \"    18 - 24\": {\"total\": 7313446, \"wrent\": 286454, \"noconf\": 639268, \"slightconf\": 1172462, \"modconf\": 2366278, \"highconf\": 2756071, \"deferred\": 72011, \"didnotrep\": 20902, \"didnottenure\": 2625570}, \"    25 - 39\": {\"total\": 33959243, \"wrent\": 1546625, \"noconf\": 4399374, \"slightconf\": 5968053, \"modconf\": 7623589, \"highconf\": 13842252, \"deferred\": 500551, \"didnotrep\": 78798, \"didnottenure\": 8137828}, \"    40 - 54\": {\"total\": 17607031, \"wrent\": 969268, \"noconf\": 2469898, \"slightconf\": 3292263, \"modconf\": 4272341, \"highconf\": 6251731, \"deferred\": 282027, \"didnotrep\": 69504, \"didnottenure\": 6160146}, \"    55 - 64\": {\"total\": 9157888, \"wrent\": 501794, \"noconf\": 989617, \"slightconf\": 1423160, \"modconf\": 2213671, \"highconf\": 3897265, \"deferred\": 51138, \"didnotrep\": 81243, \"didnottenure\": 4476699}, \"    65 and above\": {\"total\": 7228493, \"wrent\": 494549, \"noconf\": 420084, \"slightconf\": 715712, \"modconf\": 1594982, \"highconf\": 3896458, \"deferred\": 33088, \"didnotrep\": 73620, \"didnottenure\": 5276088}, \"Sex \": {\"total\": null, \"wrent\": null, \"noconf\": null, \"slightconf\": null, \"modconf\": null, \"highconf\": null, \"deferred\": null, \"didnotrep\": null, \"didnottenure\": null}, \"    Male\": {\"total\": 34772104, \"wrent\": 1917582, \"noconf\": 4169523, \"slightconf\": 5147850, \"modconf\": 8134709, \"highconf\": 14857509, \"deferred\": 514882, \"didnotrep\": 30049, \"didnottenure\": 11927883}, \"    Female\": {\"total\": 40493997, \"wrent\": 1881108, \"noconf\": 4748719, \"slightconf\": 7423800, \"modconf\": 9936152, \"highconf\": 15786268, \"deferred\": 423933, \"didnotrep\": 294018, \"didnottenure\": 14748448}, \"Hispanic origin and Race \": {\"total\": null, \"wrent\": null, \"noconf\": null, \"slightconf\": null, \"modconf\": null, \"highconf\": null, \"deferred\": null, \"didnotrep\": null, \"didnottenure\": null}, \"    Hispanic or Latino (may be of any race)\": {\"total\": 16075749, \"wrent\": 708252, \"noconf\": 2723391, \"slightconf\": 3765786, \"modconf\": 4289939, \"highconf\": 4383535, \"deferred\": 115420, \"didnotrep\": 89427, \"didnottenure\": 5834066}, \"    White alone, not Hispanic\": {\"total\": 37772948, \"wrent\": 2119711, \"noconf\": 3020518, \"slightconf\": 4193252, \"modconf\": 8471643, \"highconf\": 19355953, \"deferred\": 528322, \"didnotrep\": 83550, \"didnottenure\": 14293951}, \"    Black alone, not Hispanic\": {\"total\": 14221712, \"wrent\": 650218, \"noconf\": 2331905, \"slightconf\": 3340880, \"modconf\": 3580659, \"highconf\": 3952208, \"deferred\": 220040, \"didnotrep\": 145803, \"didnottenure\": 4084623}, \"    Asian alone, not Hispanic\": {\"total\": 3215458, \"wrent\": 122829, \"noconf\": 308873, \"slightconf\": 626124, \"modconf\": 609280, \"highconf\": 1530841, \"deferred\": 16760, \"didnotrep\": 751, \"didnottenure\": 1400182}, \"    Two or more races + Other races, not Hispanic\": {\"total\": 3980236, \"wrent\": 197681, \"noconf\": 533556, \"slightconf\": 645608, \"modconf\": 1119341, \"highconf\": 1421240, \"deferred\": 58273, \"didnotrep\": 4536, \"didnottenure\": 1063508}, \"Education \": {\"total\": null, \"wrent\": null, \"noconf\": null, \"slightconf\": null, \"modconf\": null, \"highconf\": null, \"deferred\": null, \"didnotrep\": null, \"didnottenure\": null}, \"    Less than high school\": {\"total\": 7630908, \"wrent\": 513201, \"noconf\": 1482489, \"slightconf\": 1871459, \"modconf\": 1973579, \"highconf\": 1588923, \"deferred\": 55419, \"didnotrep\": 145838, \"didnottenure\": 3033298}, \"    High school or GED\": {\"total\": 26587535, \"wrent\": 1279935, \"noconf\": 3706781, \"slightconf\": 5046450, \"modconf\": 6599701, \"highconf\": 9522006, \"deferred\": 343938, \"didnotrep\": 88723, \"didnottenure\": 10016935}, \"    Some college/associate\\u2019s degree\": {\"total\": 24354295, \"wrent\": 1322092, \"noconf\": 2792612, \"slightconf\": 4232609, \"modconf\": 6489522, \"highconf\": 9112126, \"deferred\": 332959, \"didnotrep\": 72375, \"didnottenure\": 7735679}, \"    Bachelor\\u2019s degree or higher\": {\"total\": 16693364, \"wrent\": 683462, \"noconf\": 936360, \"slightconf\": 1421132, \"modconf\": 3008059, \"highconf\": 10420722, \"deferred\": 206499, \"didnotrep\": 17130, \"didnottenure\": 5890419}, \"Marital status \": {\"total\": null, \"wrent\": null, \"noconf\": null, \"slightconf\": null, \"modconf\": null, \"highconf\": null, \"deferred\": null, \"didnotrep\": null, \"didnottenure\": null}, \"    Married\": {\"total\": 25834503, \"wrent\": 1177934, \"noconf\": 2965813, \"slightconf\": 3819950, \"modconf\": 5805097, \"highconf\": 11777371, \"deferred\": 219162, \"didnotrep\": 69175, \"didnottenure\": 12803992}, \"    Widowed\": {\"total\": 2202944, \"wrent\": 129374, \"noconf\": 222984, \"slightconf\": 349965, \"modconf\": 382827, \"highconf\": 1104429, \"deferred\": 12613, \"didnotrep\": 751, \"didnottenure\": 1533592}, \"    Divorced/separated\": {\"total\": 15201104, \"wrent\": 935960, \"noconf\": 1930192, \"slightconf\": 2694637, \"modconf\": 3655383, \"highconf\": 5611630, \"deferred\": 259105, \"didnotrep\": 114198, \"didnottenure\": 3731480}, \"    Never married\": {\"total\": 31865484, \"wrent\": 1503222, \"noconf\": 3791412, \"slightconf\": 5677647, \"modconf\": 8207982, \"highconf\": 12112585, \"deferred\": 447936, \"didnotrep\": 124700, \"didnottenure\": 7489643}, \"    Did not report\": {\"total\": 1832624, \"wrent\": 112379, \"noconf\": 174485, \"slightconf\": 256869, \"modconf\": 361729, \"highconf\": 682788, \"deferred\": 46285, \"didnotrep\": 198089, \"didnottenure\": 26227564}, \"Presence of children under 18 years old \": {\"total\": null, \"wrent\": null, \"noconf\": null, \"slightconf\": null, \"modconf\": null, \"highconf\": null, \"deferred\": null, \"didnotrep\": null, \"didnottenure\": null}, \"    Children in household\": {\"total\": 32906303, \"wrent\": 1723646, \"noconf\": 5027156, \"slightconf\": 6777250, \"modconf\": 8111053, \"highconf\": 10689768, \"deferred\": 452199, \"didnotrep\": 125231, \"didnottenure\": 11427501}, \"    No children\": {\"total\": 42359798, \"wrent\": 2075043, \"noconf\": 3891086, \"slightconf\": 5794399, \"modconf\": 9959809, \"highconf\": 19954009, \"deferred\": 486617, \"didnotrep\": 198836, \"didnottenure\": 15248829}, \"Respondent or household member experienced loss of employment income \": {\"total\": null, \"wrent\": null, \"noconf\": null, \"slightconf\": null, \"modconf\": null, \"highconf\": null, \"deferred\": null, \"didnotrep\": null, \"didnottenure\": null}, \"    Yes\": {\"total\": 39313969, \"wrent\": 1352887, \"noconf\": 3021359, \"slightconf\": 5671822, \"modconf\": 9241154, \"highconf\": 19426974, \"deferred\": 524342, \"didnotrep\": 75432, \"didnottenure\": 12821000}, \"    No\": {\"total\": 35828698, \"wrent\": 2443357, \"noconf\": 5885026, \"slightconf\": 6862370, \"modconf\": 8827869, \"highconf\": 11148719, \"deferred\": 414473, \"didnotrep\": 246882, \"didnottenure\": 12471720}, \"Respondent currently employed \": {\"total\": null, \"wrent\": null, \"noconf\": null, \"slightconf\": null, \"modconf\": null, \"highconf\": null, \"deferred\": null, \"didnotrep\": null, \"didnottenure\": null}, \"Household income \": {\"total\": null, \"wrent\": null, \"noconf\": null, \"slightconf\": null, \"modconf\": null, \"highconf\": null, \"deferred\": null, \"didnotrep\": null, \"didnottenure\": null}, \"    Less than $25,000\": {\"total\": 21689403, \"wrent\": 1670355, \"noconf\": 3674597, \"slightconf\": 4503163, \"modconf\": 5662511, \"highconf\": 5753678, \"deferred\": 356632, \"didnotrep\": 68466, \"didnottenure\": 154249}, \"    $25,000 - $34,999\": {\"total\": 12988376, \"wrent\": 783383, \"noconf\": 1737369, \"slightconf\": 2787412, \"modconf\": 3398243, \"highconf\": 4204783, \"deferred\": 77185, \"didnotrep\": \"-\", \"didnottenure\": 66443}, \"    $35,000 - $49,999\": {\"total\": 11602952, \"wrent\": 376157, \"noconf\": 1545670, \"slightconf\": 2066892, \"modconf\": 3066365, \"highconf\": 4479861, \"deferred\": 68006, \"didnotrep\": \"-\", \"didnottenure\": 40117}, \"    $50,000 - $74,999\": {\"total\": 11880529, \"wrent\": 359512, \"noconf\": 1149608, \"slightconf\": 1853850, \"modconf\": 2877970, \"highconf\": 5474198, \"deferred\": 164259, \"didnotrep\": 1131, \"didnottenure\": 104523}, \"    $75,000 - $99,999\": {\"total\": 6442384, \"wrent\": 205200, \"noconf\": 394303, \"slightconf\": 711095, \"modconf\": 1269592, \"highconf\": 3773428, \"deferred\": 88765, \"didnotrep\": \"-\", \"didnottenure\": 33749}, \"    $100,000 - $149,999\": {\"total\": 5653816, \"wrent\": 188250, \"noconf\": 187964, \"slightconf\": 310039, \"modconf\": 1136326, \"highconf\": 3678059, \"deferred\": 96797, \"didnotrep\": 56380, \"didnottenure\": 22708}, \"    $150,000 - $199,999\": {\"total\": 1708519, \"wrent\": 51620, \"noconf\": 47277, \"slightconf\": 56030, \"modconf\": 204079, \"highconf\": 1336142, \"deferred\": 13371, \"didnotrep\": \"-\", \"didnottenure\": 11099}, \"    $200,000 and above\": {\"total\": 1467499, \"wrent\": 51832, \"noconf\": 6968, \"slightconf\": 26299, \"modconf\": 94045, \"highconf\": 1260841, \"deferred\": 27513, \"didnotrep\": \"-\", \"didnottenure\": 15879}}\n"
     ]
    }
   ],
   "source": [
    "import json\n",
    "from openpyxl import load_workbook\n",
    "\n",
    "workbook = load_workbook(filename=\"/Users/nadezdachikurova/Downloads/housing2b_week1.xlsx\")\n",
    "sheet = workbook.active\n",
    "\n",
    "new_file = {}\n",
    "\n",
    "for row in sheet.iter_rows(min_row=7,\n",
    "                           min_col=0,\n",
    "                           max_col=10,\n",
    "                           values_only=True\n",
    "                          ):\n",
    "    total = row[0]\n",
    "    file = {\n",
    "        \"total\": row[1], #total\n",
    "        \"wrent\": row[2], # occupied without rent\n",
    "        \"noconf\": row[3], # no confidence\n",
    "        \"slightconf\": row[4], # slight confidence\n",
    "        \"modconf\": row[5], # moderate confidence\n",
    "        \"highconf\": row[6], # high confidence\n",
    "        \"deferred\": row[7], # payment is/will be deferred\n",
    "        \"didnotrep\": row[8], # did not report\n",
    "        \"didnottenure\": row[9] # did not report to tenture\n",
    "        \n",
    "    }\n",
    "    new_file[total] = file\n",
    "\n",
    "# Using json here to be able to format the output for displaying later\n",
    "print(json.dumps(new_file))"
   ]
  },
  {
   "cell_type": "code",
   "execution_count": 135,
   "metadata": {},
   "outputs": [
    {
     "data": {
      "text/plain": [
       "{'Total': {'total': 75266101,\n",
       "  'wrent': 3798689,\n",
       "  'noconf': 8918242,\n",
       "  'slightconf': 12571649,\n",
       "  'modconf': 18070862,\n",
       "  'highconf': 30643777,\n",
       "  'deferred': 938815,\n",
       "  'didnotrep': 324066,\n",
       "  'didnottenure': 26676331},\n",
       " 'Age ': {'total': None,\n",
       "  'wrent': None,\n",
       "  'noconf': None,\n",
       "  'slightconf': None,\n",
       "  'modconf': None,\n",
       "  'highconf': None,\n",
       "  'deferred': None,\n",
       "  'didnotrep': None,\n",
       "  'didnottenure': None},\n",
       " '    18 - 24': {'total': 7313446,\n",
       "  'wrent': 286454,\n",
       "  'noconf': 639268,\n",
       "  'slightconf': 1172462,\n",
       "  'modconf': 2366278,\n",
       "  'highconf': 2756071,\n",
       "  'deferred': 72011,\n",
       "  'didnotrep': 20902,\n",
       "  'didnottenure': 2625570},\n",
       " '    25 - 39': {'total': 33959243,\n",
       "  'wrent': 1546625,\n",
       "  'noconf': 4399374,\n",
       "  'slightconf': 5968053,\n",
       "  'modconf': 7623589,\n",
       "  'highconf': 13842252,\n",
       "  'deferred': 500551,\n",
       "  'didnotrep': 78798,\n",
       "  'didnottenure': 8137828},\n",
       " '    40 - 54': {'total': 17607031,\n",
       "  'wrent': 969268,\n",
       "  'noconf': 2469898,\n",
       "  'slightconf': 3292263,\n",
       "  'modconf': 4272341,\n",
       "  'highconf': 6251731,\n",
       "  'deferred': 282027,\n",
       "  'didnotrep': 69504,\n",
       "  'didnottenure': 6160146},\n",
       " '    55 - 64': {'total': 9157888,\n",
       "  'wrent': 501794,\n",
       "  'noconf': 989617,\n",
       "  'slightconf': 1423160,\n",
       "  'modconf': 2213671,\n",
       "  'highconf': 3897265,\n",
       "  'deferred': 51138,\n",
       "  'didnotrep': 81243,\n",
       "  'didnottenure': 4476699},\n",
       " '    65 and above': {'total': 7228493,\n",
       "  'wrent': 494549,\n",
       "  'noconf': 420084,\n",
       "  'slightconf': 715712,\n",
       "  'modconf': 1594982,\n",
       "  'highconf': 3896458,\n",
       "  'deferred': 33088,\n",
       "  'didnotrep': 73620,\n",
       "  'didnottenure': 5276088},\n",
       " 'Sex ': {'total': None,\n",
       "  'wrent': None,\n",
       "  'noconf': None,\n",
       "  'slightconf': None,\n",
       "  'modconf': None,\n",
       "  'highconf': None,\n",
       "  'deferred': None,\n",
       "  'didnotrep': None,\n",
       "  'didnottenure': None},\n",
       " '    Male': {'total': 34772104,\n",
       "  'wrent': 1917582,\n",
       "  'noconf': 4169523,\n",
       "  'slightconf': 5147850,\n",
       "  'modconf': 8134709,\n",
       "  'highconf': 14857509,\n",
       "  'deferred': 514882,\n",
       "  'didnotrep': 30049,\n",
       "  'didnottenure': 11927883},\n",
       " '    Female': {'total': 40493997,\n",
       "  'wrent': 1881108,\n",
       "  'noconf': 4748719,\n",
       "  'slightconf': 7423800,\n",
       "  'modconf': 9936152,\n",
       "  'highconf': 15786268,\n",
       "  'deferred': 423933,\n",
       "  'didnotrep': 294018,\n",
       "  'didnottenure': 14748448},\n",
       " 'Hispanic origin and Race ': {'total': None,\n",
       "  'wrent': None,\n",
       "  'noconf': None,\n",
       "  'slightconf': None,\n",
       "  'modconf': None,\n",
       "  'highconf': None,\n",
       "  'deferred': None,\n",
       "  'didnotrep': None,\n",
       "  'didnottenure': None},\n",
       " '    Hispanic or Latino (may be of any race)': {'total': 16075749,\n",
       "  'wrent': 708252,\n",
       "  'noconf': 2723391,\n",
       "  'slightconf': 3765786,\n",
       "  'modconf': 4289939,\n",
       "  'highconf': 4383535,\n",
       "  'deferred': 115420,\n",
       "  'didnotrep': 89427,\n",
       "  'didnottenure': 5834066},\n",
       " '    White alone, not Hispanic': {'total': 37772948,\n",
       "  'wrent': 2119711,\n",
       "  'noconf': 3020518,\n",
       "  'slightconf': 4193252,\n",
       "  'modconf': 8471643,\n",
       "  'highconf': 19355953,\n",
       "  'deferred': 528322,\n",
       "  'didnotrep': 83550,\n",
       "  'didnottenure': 14293951},\n",
       " '    Black alone, not Hispanic': {'total': 14221712,\n",
       "  'wrent': 650218,\n",
       "  'noconf': 2331905,\n",
       "  'slightconf': 3340880,\n",
       "  'modconf': 3580659,\n",
       "  'highconf': 3952208,\n",
       "  'deferred': 220040,\n",
       "  'didnotrep': 145803,\n",
       "  'didnottenure': 4084623},\n",
       " '    Asian alone, not Hispanic': {'total': 3215458,\n",
       "  'wrent': 122829,\n",
       "  'noconf': 308873,\n",
       "  'slightconf': 626124,\n",
       "  'modconf': 609280,\n",
       "  'highconf': 1530841,\n",
       "  'deferred': 16760,\n",
       "  'didnotrep': 751,\n",
       "  'didnottenure': 1400182},\n",
       " '    Two or more races + Other races, not Hispanic': {'total': 3980236,\n",
       "  'wrent': 197681,\n",
       "  'noconf': 533556,\n",
       "  'slightconf': 645608,\n",
       "  'modconf': 1119341,\n",
       "  'highconf': 1421240,\n",
       "  'deferred': 58273,\n",
       "  'didnotrep': 4536,\n",
       "  'didnottenure': 1063508},\n",
       " 'Education ': {'total': None,\n",
       "  'wrent': None,\n",
       "  'noconf': None,\n",
       "  'slightconf': None,\n",
       "  'modconf': None,\n",
       "  'highconf': None,\n",
       "  'deferred': None,\n",
       "  'didnotrep': None,\n",
       "  'didnottenure': None},\n",
       " '    Less than high school': {'total': 7630908,\n",
       "  'wrent': 513201,\n",
       "  'noconf': 1482489,\n",
       "  'slightconf': 1871459,\n",
       "  'modconf': 1973579,\n",
       "  'highconf': 1588923,\n",
       "  'deferred': 55419,\n",
       "  'didnotrep': 145838,\n",
       "  'didnottenure': 3033298},\n",
       " '    High school or GED': {'total': 26587535,\n",
       "  'wrent': 1279935,\n",
       "  'noconf': 3706781,\n",
       "  'slightconf': 5046450,\n",
       "  'modconf': 6599701,\n",
       "  'highconf': 9522006,\n",
       "  'deferred': 343938,\n",
       "  'didnotrep': 88723,\n",
       "  'didnottenure': 10016935},\n",
       " '    Some college/associate’s degree': {'total': 24354295,\n",
       "  'wrent': 1322092,\n",
       "  'noconf': 2792612,\n",
       "  'slightconf': 4232609,\n",
       "  'modconf': 6489522,\n",
       "  'highconf': 9112126,\n",
       "  'deferred': 332959,\n",
       "  'didnotrep': 72375,\n",
       "  'didnottenure': 7735679},\n",
       " '    Bachelor’s degree or higher': {'total': 16693364,\n",
       "  'wrent': 683462,\n",
       "  'noconf': 936360,\n",
       "  'slightconf': 1421132,\n",
       "  'modconf': 3008059,\n",
       "  'highconf': 10420722,\n",
       "  'deferred': 206499,\n",
       "  'didnotrep': 17130,\n",
       "  'didnottenure': 5890419},\n",
       " 'Marital status ': {'total': None,\n",
       "  'wrent': None,\n",
       "  'noconf': None,\n",
       "  'slightconf': None,\n",
       "  'modconf': None,\n",
       "  'highconf': None,\n",
       "  'deferred': None,\n",
       "  'didnotrep': None,\n",
       "  'didnottenure': None},\n",
       " '    Married': {'total': 25834503,\n",
       "  'wrent': 1177934,\n",
       "  'noconf': 2965813,\n",
       "  'slightconf': 3819950,\n",
       "  'modconf': 5805097,\n",
       "  'highconf': 11777371,\n",
       "  'deferred': 219162,\n",
       "  'didnotrep': 69175,\n",
       "  'didnottenure': 12803992},\n",
       " '    Widowed': {'total': 2202944,\n",
       "  'wrent': 129374,\n",
       "  'noconf': 222984,\n",
       "  'slightconf': 349965,\n",
       "  'modconf': 382827,\n",
       "  'highconf': 1104429,\n",
       "  'deferred': 12613,\n",
       "  'didnotrep': 751,\n",
       "  'didnottenure': 1533592},\n",
       " '    Divorced/separated': {'total': 15201104,\n",
       "  'wrent': 935960,\n",
       "  'noconf': 1930192,\n",
       "  'slightconf': 2694637,\n",
       "  'modconf': 3655383,\n",
       "  'highconf': 5611630,\n",
       "  'deferred': 259105,\n",
       "  'didnotrep': 114198,\n",
       "  'didnottenure': 3731480},\n",
       " '    Never married': {'total': 31865484,\n",
       "  'wrent': 1503222,\n",
       "  'noconf': 3791412,\n",
       "  'slightconf': 5677647,\n",
       "  'modconf': 8207982,\n",
       "  'highconf': 12112585,\n",
       "  'deferred': 447936,\n",
       "  'didnotrep': 124700,\n",
       "  'didnottenure': 7489643},\n",
       " '    Did not report': {'total': 1832624,\n",
       "  'wrent': 112379,\n",
       "  'noconf': 174485,\n",
       "  'slightconf': 256869,\n",
       "  'modconf': 361729,\n",
       "  'highconf': 682788,\n",
       "  'deferred': 46285,\n",
       "  'didnotrep': 198089,\n",
       "  'didnottenure': 26227564},\n",
       " 'Presence of children under 18 years old ': {'total': None,\n",
       "  'wrent': None,\n",
       "  'noconf': None,\n",
       "  'slightconf': None,\n",
       "  'modconf': None,\n",
       "  'highconf': None,\n",
       "  'deferred': None,\n",
       "  'didnotrep': None,\n",
       "  'didnottenure': None},\n",
       " '    Children in household': {'total': 32906303,\n",
       "  'wrent': 1723646,\n",
       "  'noconf': 5027156,\n",
       "  'slightconf': 6777250,\n",
       "  'modconf': 8111053,\n",
       "  'highconf': 10689768,\n",
       "  'deferred': 452199,\n",
       "  'didnotrep': 125231,\n",
       "  'didnottenure': 11427501},\n",
       " '    No children': {'total': 42359798,\n",
       "  'wrent': 2075043,\n",
       "  'noconf': 3891086,\n",
       "  'slightconf': 5794399,\n",
       "  'modconf': 9959809,\n",
       "  'highconf': 19954009,\n",
       "  'deferred': 486617,\n",
       "  'didnotrep': 198836,\n",
       "  'didnottenure': 15248829},\n",
       " 'Respondent or household member experienced loss of employment income ': {'total': None,\n",
       "  'wrent': None,\n",
       "  'noconf': None,\n",
       "  'slightconf': None,\n",
       "  'modconf': None,\n",
       "  'highconf': None,\n",
       "  'deferred': None,\n",
       "  'didnotrep': None,\n",
       "  'didnottenure': None},\n",
       " '    Yes': {'total': 39313969,\n",
       "  'wrent': 1352887,\n",
       "  'noconf': 3021359,\n",
       "  'slightconf': 5671822,\n",
       "  'modconf': 9241154,\n",
       "  'highconf': 19426974,\n",
       "  'deferred': 524342,\n",
       "  'didnotrep': 75432,\n",
       "  'didnottenure': 12821000},\n",
       " '    No': {'total': 35828698,\n",
       "  'wrent': 2443357,\n",
       "  'noconf': 5885026,\n",
       "  'slightconf': 6862370,\n",
       "  'modconf': 8827869,\n",
       "  'highconf': 11148719,\n",
       "  'deferred': 414473,\n",
       "  'didnotrep': 246882,\n",
       "  'didnottenure': 12471720},\n",
       " 'Respondent currently employed ': {'total': None,\n",
       "  'wrent': None,\n",
       "  'noconf': None,\n",
       "  'slightconf': None,\n",
       "  'modconf': None,\n",
       "  'highconf': None,\n",
       "  'deferred': None,\n",
       "  'didnotrep': None,\n",
       "  'didnottenure': None},\n",
       " 'Household income ': {'total': None,\n",
       "  'wrent': None,\n",
       "  'noconf': None,\n",
       "  'slightconf': None,\n",
       "  'modconf': None,\n",
       "  'highconf': None,\n",
       "  'deferred': None,\n",
       "  'didnotrep': None,\n",
       "  'didnottenure': None},\n",
       " '    Less than $25,000': {'total': 21689403,\n",
       "  'wrent': 1670355,\n",
       "  'noconf': 3674597,\n",
       "  'slightconf': 4503163,\n",
       "  'modconf': 5662511,\n",
       "  'highconf': 5753678,\n",
       "  'deferred': 356632,\n",
       "  'didnotrep': 68466,\n",
       "  'didnottenure': 154249},\n",
       " '    $25,000 - $34,999': {'total': 12988376,\n",
       "  'wrent': 783383,\n",
       "  'noconf': 1737369,\n",
       "  'slightconf': 2787412,\n",
       "  'modconf': 3398243,\n",
       "  'highconf': 4204783,\n",
       "  'deferred': 77185,\n",
       "  'didnotrep': '-',\n",
       "  'didnottenure': 66443},\n",
       " '    $35,000 - $49,999': {'total': 11602952,\n",
       "  'wrent': 376157,\n",
       "  'noconf': 1545670,\n",
       "  'slightconf': 2066892,\n",
       "  'modconf': 3066365,\n",
       "  'highconf': 4479861,\n",
       "  'deferred': 68006,\n",
       "  'didnotrep': '-',\n",
       "  'didnottenure': 40117},\n",
       " '    $50,000 - $74,999': {'total': 11880529,\n",
       "  'wrent': 359512,\n",
       "  'noconf': 1149608,\n",
       "  'slightconf': 1853850,\n",
       "  'modconf': 2877970,\n",
       "  'highconf': 5474198,\n",
       "  'deferred': 164259,\n",
       "  'didnotrep': 1131,\n",
       "  'didnottenure': 104523},\n",
       " '    $75,000 - $99,999': {'total': 6442384,\n",
       "  'wrent': 205200,\n",
       "  'noconf': 394303,\n",
       "  'slightconf': 711095,\n",
       "  'modconf': 1269592,\n",
       "  'highconf': 3773428,\n",
       "  'deferred': 88765,\n",
       "  'didnotrep': '-',\n",
       "  'didnottenure': 33749},\n",
       " '    $100,000 - $149,999': {'total': 5653816,\n",
       "  'wrent': 188250,\n",
       "  'noconf': 187964,\n",
       "  'slightconf': 310039,\n",
       "  'modconf': 1136326,\n",
       "  'highconf': 3678059,\n",
       "  'deferred': 96797,\n",
       "  'didnotrep': 56380,\n",
       "  'didnottenure': 22708},\n",
       " '    $150,000 - $199,999': {'total': 1708519,\n",
       "  'wrent': 51620,\n",
       "  'noconf': 47277,\n",
       "  'slightconf': 56030,\n",
       "  'modconf': 204079,\n",
       "  'highconf': 1336142,\n",
       "  'deferred': 13371,\n",
       "  'didnotrep': '-',\n",
       "  'didnottenure': 11099},\n",
       " '    $200,000 and above': {'total': 1467499,\n",
       "  'wrent': 51832,\n",
       "  'noconf': 6968,\n",
       "  'slightconf': 26299,\n",
       "  'modconf': 94045,\n",
       "  'highconf': 1260841,\n",
       "  'deferred': 27513,\n",
       "  'didnotrep': '-',\n",
       "  'didnottenure': 15879}}"
      ]
     },
     "execution_count": 135,
     "metadata": {},
     "output_type": "execute_result"
    }
   ],
   "source": [
    "new_file"
   ]
  },
  {
   "cell_type": "code",
   "execution_count": 127,
   "metadata": {},
   "outputs": [],
   "source": [
    "# PROBLEMS\n",
    "# last row is missing\n",
    "# need to skip rows with categories: Age, Sex, Education, etc\n",
    "# need to apply code for all worksheets\n",
    "\n",
    "# missing values!\n",
    "\n",
    "\n",
    "# SOLVED \n",
    "# 1.sheet  = workbook.worksheets[1] -- gets to each worksheet separately"
   ]
  },
  {
   "cell_type": "code",
   "execution_count": 146,
   "metadata": {},
   "outputs": [
    {
     "name": "stdout",
     "output_type": "stream",
     "text": [
      "{\"Total\": {\"total\": 1011894, \"wrent\": 102350, \"noconf\": 161904, \"slightconf\": 127657, \"modconf\": 222039, \"highconf\": 389296, \"deferred\": 8649, \"didnotrep\": \"-\", \"didnottenure\": 522654}, \"Age \": {\"total\": null, \"wrent\": null, \"noconf\": null, \"slightconf\": null, \"modconf\": null, \"highconf\": null, \"deferred\": null, \"didnotrep\": null, \"didnottenure\": null}, \"    18 - 24\": {\"total\": 84945, \"wrent\": \"-\", \"noconf\": 23728, \"slightconf\": 2353, \"modconf\": 16179, \"highconf\": 42686, \"deferred\": \"-\", \"didnotrep\": \"-\", \"didnottenure\": 58802}, \"    25 - 39\": {\"total\": 427514, \"wrent\": 45227, \"noconf\": 34220, \"slightconf\": 78833, \"modconf\": 117950, \"highconf\": 143461, \"deferred\": 7823, \"didnotrep\": \"-\", \"didnottenure\": 165714}, \"    40 - 54\": {\"total\": 272380, \"wrent\": 11681, \"noconf\": 67294, \"slightconf\": 28042, \"modconf\": 65132, \"highconf\": 100231, \"deferred\": \"-\", \"didnotrep\": \"-\", \"didnottenure\": 87979}, \"    55 - 64\": {\"total\": 164271, \"wrent\": 26907, \"noconf\": 35173, \"slightconf\": 18430, \"modconf\": 16768, \"highconf\": 66167, \"deferred\": 827, \"didnotrep\": \"-\", \"didnottenure\": 92726}, \"    65 and above\": {\"total\": 62783, \"wrent\": 18534, \"noconf\": 1489, \"slightconf\": \"-\", \"modconf\": 6010, \"highconf\": 36750, \"deferred\": \"-\", \"didnotrep\": \"-\", \"didnottenure\": 117432}, \"Sex \": {\"total\": null, \"wrent\": null, \"noconf\": null, \"slightconf\": null, \"modconf\": null, \"highconf\": null, \"deferred\": null, \"didnotrep\": null, \"didnottenure\": null}, \"    Male\": {\"total\": 406465, \"wrent\": 37012, \"noconf\": 48139, \"slightconf\": 54376, \"modconf\": 80759, \"highconf\": 186179, \"deferred\": \"-\", \"didnotrep\": \"-\", \"didnottenure\": 280558}, \"    Female\": {\"total\": 605429, \"wrent\": 65338, \"noconf\": 113765, \"slightconf\": 73281, \"modconf\": 141279, \"highconf\": 203116, \"deferred\": 8649, \"didnotrep\": \"-\", \"didnottenure\": 242095}, \"Hispanic origin and Race \": {\"total\": null, \"wrent\": null, \"noconf\": null, \"slightconf\": null, \"modconf\": null, \"highconf\": null, \"deferred\": null, \"didnotrep\": null, \"didnottenure\": null}, \"    Hispanic or Latino (may be of any race)\": {\"total\": 96773, \"wrent\": 16890, \"noconf\": 1367, \"slightconf\": 10835, \"modconf\": 48342, \"highconf\": 19339, \"deferred\": \"-\", \"didnotrep\": \"-\", \"didnottenure\": 11853}, \"    White alone, not Hispanic\": {\"total\": 510239, \"wrent\": 65619, \"noconf\": 70545, \"slightconf\": 29725, \"modconf\": 110096, \"highconf\": 232267, \"deferred\": 1988, \"didnotrep\": \"-\", \"didnottenure\": 299493}, \"    Black alone, not Hispanic\": {\"total\": 376215, \"wrent\": 19841, \"noconf\": 81964, \"slightconf\": 85003, \"modconf\": 57798, \"highconf\": 124948, \"deferred\": 6662, \"didnotrep\": \"-\", \"didnottenure\": 203060}, \"    Asian alone, not Hispanic\": {\"total\": 14158, \"wrent\": \"-\", \"noconf\": 7086, \"slightconf\": 2094, \"modconf\": \"-\", \"highconf\": 4978, \"deferred\": \"-\", \"didnotrep\": \"-\", \"didnottenure\": 3294}, \"    Two or more races + Other races, not Hispanic\": {\"total\": 14510, \"wrent\": \"-\", \"noconf\": 942, \"slightconf\": \"-\", \"modconf\": 5803, \"highconf\": 7764, \"deferred\": \"-\", \"didnotrep\": \"-\", \"didnottenure\": 4953}, \"Education \": {\"total\": null, \"wrent\": null, \"noconf\": null, \"slightconf\": null, \"modconf\": null, \"highconf\": null, \"deferred\": null, \"didnotrep\": null, \"didnottenure\": null}, \"    Less than high school\": {\"total\": 144553, \"wrent\": 11952, \"noconf\": 8556, \"slightconf\": 10361, \"modconf\": 89653, \"highconf\": 24032, \"deferred\": \"-\", \"didnotrep\": \"-\", \"didnottenure\": 24802}, \"    High school or GED\": {\"total\": 367909, \"wrent\": 33385, \"noconf\": 81127, \"slightconf\": 57981, \"modconf\": 38445, \"highconf\": 156970, \"deferred\": \"-\", \"didnotrep\": \"-\", \"didnottenure\": 244601}, \"    Some college/associate\\u2019s degree\": {\"total\": 312869, \"wrent\": 30481, \"noconf\": 53175, \"slightconf\": 51638, \"modconf\": 51516, \"highconf\": 117409, \"deferred\": 8649, \"didnotrep\": \"-\", \"didnottenure\": 149510}, \"    Bachelor\\u2019s degree or higher\": {\"total\": 186563, \"wrent\": 26532, \"noconf\": 19046, \"slightconf\": 7677, \"modconf\": 42424, \"highconf\": 90884, \"deferred\": \"-\", \"didnotrep\": \"-\", \"didnottenure\": 103740}, \"Marital status \": {\"total\": null, \"wrent\": null, \"noconf\": null, \"slightconf\": null, \"modconf\": null, \"highconf\": null, \"deferred\": null, \"didnotrep\": null, \"didnottenure\": null}, \"    Married\": {\"total\": 403035, \"wrent\": 35649, \"noconf\": 56448, \"slightconf\": 36907, \"modconf\": 128763, \"highconf\": 145269, \"deferred\": \"-\", \"didnotrep\": \"-\", \"didnottenure\": 236314}, \"    Widowed\": {\"total\": 49038, \"wrent\": \"-\", \"noconf\": 5098, \"slightconf\": \"-\", \"modconf\": 8788, \"highconf\": 35153, \"deferred\": \"-\", \"didnotrep\": \"-\", \"didnottenure\": 6347}, \"    Divorced/separated\": {\"total\": 249744, \"wrent\": 49613, \"noconf\": 47548, \"slightconf\": 25442, \"modconf\": 32521, \"highconf\": 90747, \"deferred\": 3872, \"didnotrep\": \"-\", \"didnottenure\": 63420}, \"    Never married\": {\"total\": 310076, \"wrent\": 17088, \"noconf\": 52810, \"slightconf\": 65307, \"modconf\": 51966, \"highconf\": 118127, \"deferred\": 4778, \"didnotrep\": \"-\", \"didnottenure\": 205475}, \"    Did not report\": {\"total\": 15626, \"wrent\": 2059, \"noconf\": \"-\", \"slightconf\": \"-\", \"modconf\": \"-\", \"highconf\": 13567, \"deferred\": \"-\", \"didnotrep\": \"-\", \"didnottenure\": 521165}, \"Presence of children under 18 years old \": {\"total\": null, \"wrent\": null, \"noconf\": null, \"slightconf\": null, \"modconf\": null, \"highconf\": null, \"deferred\": null, \"didnotrep\": null, \"didnottenure\": null}, \"    Children in household\": {\"total\": 451625, \"wrent\": 37216, \"noconf\": 70557, \"slightconf\": 55031, \"modconf\": 121948, \"highconf\": 160212, \"deferred\": 6662, \"didnotrep\": \"-\", \"didnottenure\": 273408}, \"    No children\": {\"total\": 560269, \"wrent\": 65134, \"noconf\": 91347, \"slightconf\": 72626, \"modconf\": 100091, \"highconf\": 229084, \"deferred\": 1988, \"didnotrep\": \"-\", \"didnottenure\": 249246}, \"Respondent or household member experienced loss of employment income \": {\"total\": null, \"wrent\": null, \"noconf\": null, \"slightconf\": null, \"modconf\": null, \"highconf\": null, \"deferred\": null, \"didnotrep\": null, \"didnottenure\": null}, \"    Yes\": {\"total\": 507220, \"wrent\": 30445, \"noconf\": 105040, \"slightconf\": 52347, \"modconf\": 133555, \"highconf\": 185833, \"deferred\": \"-\", \"didnotrep\": \"-\", \"didnottenure\": 206615}, \"    No\": {\"total\": 500520, \"wrent\": 71904, \"noconf\": 52710, \"slightconf\": 75310, \"modconf\": 88484, \"highconf\": 203462, \"deferred\": 8649, \"didnotrep\": \"-\", \"didnottenure\": 303611}, \"Respondent currently employed \": {\"total\": null, \"wrent\": null, \"noconf\": null, \"slightconf\": null, \"modconf\": null, \"highconf\": null, \"deferred\": null, \"didnotrep\": null, \"didnottenure\": null}, \"Household income \": {\"total\": null, \"wrent\": null, \"noconf\": null, \"slightconf\": null, \"modconf\": null, \"highconf\": null, \"deferred\": null, \"didnotrep\": null, \"didnottenure\": null}, \"    Less than $25,000\": {\"total\": 334967, \"wrent\": 56068, \"noconf\": 62307, \"slightconf\": 57709, \"modconf\": 40333, \"highconf\": 111785, \"deferred\": 6765, \"didnotrep\": \"-\", \"didnottenure\": \"-\"}, \"    $25,000 - $34,999\": {\"total\": 188148, \"wrent\": 14388, \"noconf\": 15526, \"slightconf\": 15396, \"modconf\": 82594, \"highconf\": 58360, \"deferred\": 1884, \"didnotrep\": \"-\", \"didnottenure\": \"-\"}, \"    $35,000 - $49,999\": {\"total\": 151350, \"wrent\": 5852, \"noconf\": 44444, \"slightconf\": 20082, \"modconf\": 32109, \"highconf\": 48863, \"deferred\": \"-\", \"didnotrep\": \"-\", \"didnottenure\": \"-\"}, \"    $50,000 - $74,999\": {\"total\": 178382, \"wrent\": 4612, \"noconf\": 8699, \"slightconf\": 33309, \"modconf\": 56388, \"highconf\": 75373, \"deferred\": \"-\", \"didnotrep\": \"-\", \"didnottenure\": 1489}, \"    $75,000 - $99,999\": {\"total\": 60764, \"wrent\": \"-\", \"noconf\": 15387, \"slightconf\": 1161, \"modconf\": 9924, \"highconf\": 34292, \"deferred\": \"-\", \"didnotrep\": \"-\", \"didnottenure\": \"-\"}, \"    $100,000 - $149,999\": {\"total\": 45092, \"wrent\": 1081, \"noconf\": 15542, \"slightconf\": \"-\", \"modconf\": 691, \"highconf\": 27779, \"deferred\": \"-\", \"didnotrep\": \"-\", \"didnottenure\": \"-\"}, \"    $150,000 - $199,999\": {\"total\": 12869, \"wrent\": 1401, \"noconf\": \"-\", \"slightconf\": \"-\", \"modconf\": \"-\", \"highconf\": 11468, \"deferred\": \"-\", \"didnotrep\": \"-\", \"didnottenure\": \"-\"}, \"    $200,000 and above\": {\"total\": 24697, \"wrent\": 16890, \"noconf\": \"-\", \"slightconf\": \"-\", \"modconf\": \"-\", \"highconf\": 7807, \"deferred\": \"-\", \"didnotrep\": \"-\", \"didnottenure\": \"-\"}}\n"
     ]
    }
   ],
   "source": [
    "import json\n",
    "from openpyxl import load_workbook\n",
    "\n",
    "workbook = load_workbook(filename=\"/Users/nadezdachikurova/Downloads/housing2b_week1.xlsx\")\n",
    "sheet  = workbook.worksheets[1] \n",
    "\n",
    "new_file_AL = {}\n",
    "\n",
    "for row in sheet.iter_rows(min_row=7,\n",
    "                           min_col=0,\n",
    "                           max_col=10,\n",
    "                           values_only=True\n",
    "                          ):\n",
    "    total = row[0]\n",
    "    file = {\n",
    "        \"total\": row[1], # total\n",
    "        \"wrent\": row[2], # occupied without rent\n",
    "        \"noconf\": row[3], # no confidence\n",
    "        \"slightconf\": row[4], # slight confidence\n",
    "        \"modconf\": row[5], # moderate confidence\n",
    "        \"highconf\": row[6], # high confidence\n",
    "        \"deferred\": row[7], # payment is/will be deferred\n",
    "        \"didnotrep\": row[8], # did not report\n",
    "        \"didnottenure\": row[9] # did not report to tenture\n",
    "        \n",
    "    }\n",
    "    new_file_AL[total] = file\n",
    "\n",
    "# Using json here to be able to format the output for displaying later\n",
    "print(json.dumps(new_file_AL))"
   ]
  },
  {
   "cell_type": "code",
   "execution_count": 147,
   "metadata": {},
   "outputs": [
    {
     "data": {
      "text/plain": [
       "{'Total': {'total': 1011894,\n",
       "  'wrent': 102350,\n",
       "  'noconf': 161904,\n",
       "  'slightconf': 127657,\n",
       "  'modconf': 222039,\n",
       "  'highconf': 389296,\n",
       "  'deferred': 8649,\n",
       "  'didnotrep': '-',\n",
       "  'didnottenure': 522654},\n",
       " 'Age ': {'total': None,\n",
       "  'wrent': None,\n",
       "  'noconf': None,\n",
       "  'slightconf': None,\n",
       "  'modconf': None,\n",
       "  'highconf': None,\n",
       "  'deferred': None,\n",
       "  'didnotrep': None,\n",
       "  'didnottenure': None},\n",
       " '    18 - 24': {'total': 84945,\n",
       "  'wrent': '-',\n",
       "  'noconf': 23728,\n",
       "  'slightconf': 2353,\n",
       "  'modconf': 16179,\n",
       "  'highconf': 42686,\n",
       "  'deferred': '-',\n",
       "  'didnotrep': '-',\n",
       "  'didnottenure': 58802},\n",
       " '    25 - 39': {'total': 427514,\n",
       "  'wrent': 45227,\n",
       "  'noconf': 34220,\n",
       "  'slightconf': 78833,\n",
       "  'modconf': 117950,\n",
       "  'highconf': 143461,\n",
       "  'deferred': 7823,\n",
       "  'didnotrep': '-',\n",
       "  'didnottenure': 165714},\n",
       " '    40 - 54': {'total': 272380,\n",
       "  'wrent': 11681,\n",
       "  'noconf': 67294,\n",
       "  'slightconf': 28042,\n",
       "  'modconf': 65132,\n",
       "  'highconf': 100231,\n",
       "  'deferred': '-',\n",
       "  'didnotrep': '-',\n",
       "  'didnottenure': 87979},\n",
       " '    55 - 64': {'total': 164271,\n",
       "  'wrent': 26907,\n",
       "  'noconf': 35173,\n",
       "  'slightconf': 18430,\n",
       "  'modconf': 16768,\n",
       "  'highconf': 66167,\n",
       "  'deferred': 827,\n",
       "  'didnotrep': '-',\n",
       "  'didnottenure': 92726},\n",
       " '    65 and above': {'total': 62783,\n",
       "  'wrent': 18534,\n",
       "  'noconf': 1489,\n",
       "  'slightconf': '-',\n",
       "  'modconf': 6010,\n",
       "  'highconf': 36750,\n",
       "  'deferred': '-',\n",
       "  'didnotrep': '-',\n",
       "  'didnottenure': 117432},\n",
       " 'Sex ': {'total': None,\n",
       "  'wrent': None,\n",
       "  'noconf': None,\n",
       "  'slightconf': None,\n",
       "  'modconf': None,\n",
       "  'highconf': None,\n",
       "  'deferred': None,\n",
       "  'didnotrep': None,\n",
       "  'didnottenure': None},\n",
       " '    Male': {'total': 406465,\n",
       "  'wrent': 37012,\n",
       "  'noconf': 48139,\n",
       "  'slightconf': 54376,\n",
       "  'modconf': 80759,\n",
       "  'highconf': 186179,\n",
       "  'deferred': '-',\n",
       "  'didnotrep': '-',\n",
       "  'didnottenure': 280558},\n",
       " '    Female': {'total': 605429,\n",
       "  'wrent': 65338,\n",
       "  'noconf': 113765,\n",
       "  'slightconf': 73281,\n",
       "  'modconf': 141279,\n",
       "  'highconf': 203116,\n",
       "  'deferred': 8649,\n",
       "  'didnotrep': '-',\n",
       "  'didnottenure': 242095},\n",
       " 'Hispanic origin and Race ': {'total': None,\n",
       "  'wrent': None,\n",
       "  'noconf': None,\n",
       "  'slightconf': None,\n",
       "  'modconf': None,\n",
       "  'highconf': None,\n",
       "  'deferred': None,\n",
       "  'didnotrep': None,\n",
       "  'didnottenure': None},\n",
       " '    Hispanic or Latino (may be of any race)': {'total': 96773,\n",
       "  'wrent': 16890,\n",
       "  'noconf': 1367,\n",
       "  'slightconf': 10835,\n",
       "  'modconf': 48342,\n",
       "  'highconf': 19339,\n",
       "  'deferred': '-',\n",
       "  'didnotrep': '-',\n",
       "  'didnottenure': 11853},\n",
       " '    White alone, not Hispanic': {'total': 510239,\n",
       "  'wrent': 65619,\n",
       "  'noconf': 70545,\n",
       "  'slightconf': 29725,\n",
       "  'modconf': 110096,\n",
       "  'highconf': 232267,\n",
       "  'deferred': 1988,\n",
       "  'didnotrep': '-',\n",
       "  'didnottenure': 299493},\n",
       " '    Black alone, not Hispanic': {'total': 376215,\n",
       "  'wrent': 19841,\n",
       "  'noconf': 81964,\n",
       "  'slightconf': 85003,\n",
       "  'modconf': 57798,\n",
       "  'highconf': 124948,\n",
       "  'deferred': 6662,\n",
       "  'didnotrep': '-',\n",
       "  'didnottenure': 203060},\n",
       " '    Asian alone, not Hispanic': {'total': 14158,\n",
       "  'wrent': '-',\n",
       "  'noconf': 7086,\n",
       "  'slightconf': 2094,\n",
       "  'modconf': '-',\n",
       "  'highconf': 4978,\n",
       "  'deferred': '-',\n",
       "  'didnotrep': '-',\n",
       "  'didnottenure': 3294},\n",
       " '    Two or more races + Other races, not Hispanic': {'total': 14510,\n",
       "  'wrent': '-',\n",
       "  'noconf': 942,\n",
       "  'slightconf': '-',\n",
       "  'modconf': 5803,\n",
       "  'highconf': 7764,\n",
       "  'deferred': '-',\n",
       "  'didnotrep': '-',\n",
       "  'didnottenure': 4953},\n",
       " 'Education ': {'total': None,\n",
       "  'wrent': None,\n",
       "  'noconf': None,\n",
       "  'slightconf': None,\n",
       "  'modconf': None,\n",
       "  'highconf': None,\n",
       "  'deferred': None,\n",
       "  'didnotrep': None,\n",
       "  'didnottenure': None},\n",
       " '    Less than high school': {'total': 144553,\n",
       "  'wrent': 11952,\n",
       "  'noconf': 8556,\n",
       "  'slightconf': 10361,\n",
       "  'modconf': 89653,\n",
       "  'highconf': 24032,\n",
       "  'deferred': '-',\n",
       "  'didnotrep': '-',\n",
       "  'didnottenure': 24802},\n",
       " '    High school or GED': {'total': 367909,\n",
       "  'wrent': 33385,\n",
       "  'noconf': 81127,\n",
       "  'slightconf': 57981,\n",
       "  'modconf': 38445,\n",
       "  'highconf': 156970,\n",
       "  'deferred': '-',\n",
       "  'didnotrep': '-',\n",
       "  'didnottenure': 244601},\n",
       " '    Some college/associate’s degree': {'total': 312869,\n",
       "  'wrent': 30481,\n",
       "  'noconf': 53175,\n",
       "  'slightconf': 51638,\n",
       "  'modconf': 51516,\n",
       "  'highconf': 117409,\n",
       "  'deferred': 8649,\n",
       "  'didnotrep': '-',\n",
       "  'didnottenure': 149510},\n",
       " '    Bachelor’s degree or higher': {'total': 186563,\n",
       "  'wrent': 26532,\n",
       "  'noconf': 19046,\n",
       "  'slightconf': 7677,\n",
       "  'modconf': 42424,\n",
       "  'highconf': 90884,\n",
       "  'deferred': '-',\n",
       "  'didnotrep': '-',\n",
       "  'didnottenure': 103740},\n",
       " 'Marital status ': {'total': None,\n",
       "  'wrent': None,\n",
       "  'noconf': None,\n",
       "  'slightconf': None,\n",
       "  'modconf': None,\n",
       "  'highconf': None,\n",
       "  'deferred': None,\n",
       "  'didnotrep': None,\n",
       "  'didnottenure': None},\n",
       " '    Married': {'total': 403035,\n",
       "  'wrent': 35649,\n",
       "  'noconf': 56448,\n",
       "  'slightconf': 36907,\n",
       "  'modconf': 128763,\n",
       "  'highconf': 145269,\n",
       "  'deferred': '-',\n",
       "  'didnotrep': '-',\n",
       "  'didnottenure': 236314},\n",
       " '    Widowed': {'total': 49038,\n",
       "  'wrent': '-',\n",
       "  'noconf': 5098,\n",
       "  'slightconf': '-',\n",
       "  'modconf': 8788,\n",
       "  'highconf': 35153,\n",
       "  'deferred': '-',\n",
       "  'didnotrep': '-',\n",
       "  'didnottenure': 6347},\n",
       " '    Divorced/separated': {'total': 249744,\n",
       "  'wrent': 49613,\n",
       "  'noconf': 47548,\n",
       "  'slightconf': 25442,\n",
       "  'modconf': 32521,\n",
       "  'highconf': 90747,\n",
       "  'deferred': 3872,\n",
       "  'didnotrep': '-',\n",
       "  'didnottenure': 63420},\n",
       " '    Never married': {'total': 310076,\n",
       "  'wrent': 17088,\n",
       "  'noconf': 52810,\n",
       "  'slightconf': 65307,\n",
       "  'modconf': 51966,\n",
       "  'highconf': 118127,\n",
       "  'deferred': 4778,\n",
       "  'didnotrep': '-',\n",
       "  'didnottenure': 205475},\n",
       " '    Did not report': {'total': 15626,\n",
       "  'wrent': 2059,\n",
       "  'noconf': '-',\n",
       "  'slightconf': '-',\n",
       "  'modconf': '-',\n",
       "  'highconf': 13567,\n",
       "  'deferred': '-',\n",
       "  'didnotrep': '-',\n",
       "  'didnottenure': 521165},\n",
       " 'Presence of children under 18 years old ': {'total': None,\n",
       "  'wrent': None,\n",
       "  'noconf': None,\n",
       "  'slightconf': None,\n",
       "  'modconf': None,\n",
       "  'highconf': None,\n",
       "  'deferred': None,\n",
       "  'didnotrep': None,\n",
       "  'didnottenure': None},\n",
       " '    Children in household': {'total': 451625,\n",
       "  'wrent': 37216,\n",
       "  'noconf': 70557,\n",
       "  'slightconf': 55031,\n",
       "  'modconf': 121948,\n",
       "  'highconf': 160212,\n",
       "  'deferred': 6662,\n",
       "  'didnotrep': '-',\n",
       "  'didnottenure': 273408},\n",
       " '    No children': {'total': 560269,\n",
       "  'wrent': 65134,\n",
       "  'noconf': 91347,\n",
       "  'slightconf': 72626,\n",
       "  'modconf': 100091,\n",
       "  'highconf': 229084,\n",
       "  'deferred': 1988,\n",
       "  'didnotrep': '-',\n",
       "  'didnottenure': 249246},\n",
       " 'Respondent or household member experienced loss of employment income ': {'total': None,\n",
       "  'wrent': None,\n",
       "  'noconf': None,\n",
       "  'slightconf': None,\n",
       "  'modconf': None,\n",
       "  'highconf': None,\n",
       "  'deferred': None,\n",
       "  'didnotrep': None,\n",
       "  'didnottenure': None},\n",
       " '    Yes': {'total': 507220,\n",
       "  'wrent': 30445,\n",
       "  'noconf': 105040,\n",
       "  'slightconf': 52347,\n",
       "  'modconf': 133555,\n",
       "  'highconf': 185833,\n",
       "  'deferred': '-',\n",
       "  'didnotrep': '-',\n",
       "  'didnottenure': 206615},\n",
       " '    No': {'total': 500520,\n",
       "  'wrent': 71904,\n",
       "  'noconf': 52710,\n",
       "  'slightconf': 75310,\n",
       "  'modconf': 88484,\n",
       "  'highconf': 203462,\n",
       "  'deferred': 8649,\n",
       "  'didnotrep': '-',\n",
       "  'didnottenure': 303611},\n",
       " 'Respondent currently employed ': {'total': None,\n",
       "  'wrent': None,\n",
       "  'noconf': None,\n",
       "  'slightconf': None,\n",
       "  'modconf': None,\n",
       "  'highconf': None,\n",
       "  'deferred': None,\n",
       "  'didnotrep': None,\n",
       "  'didnottenure': None},\n",
       " 'Household income ': {'total': None,\n",
       "  'wrent': None,\n",
       "  'noconf': None,\n",
       "  'slightconf': None,\n",
       "  'modconf': None,\n",
       "  'highconf': None,\n",
       "  'deferred': None,\n",
       "  'didnotrep': None,\n",
       "  'didnottenure': None},\n",
       " '    Less than $25,000': {'total': 334967,\n",
       "  'wrent': 56068,\n",
       "  'noconf': 62307,\n",
       "  'slightconf': 57709,\n",
       "  'modconf': 40333,\n",
       "  'highconf': 111785,\n",
       "  'deferred': 6765,\n",
       "  'didnotrep': '-',\n",
       "  'didnottenure': '-'},\n",
       " '    $25,000 - $34,999': {'total': 188148,\n",
       "  'wrent': 14388,\n",
       "  'noconf': 15526,\n",
       "  'slightconf': 15396,\n",
       "  'modconf': 82594,\n",
       "  'highconf': 58360,\n",
       "  'deferred': 1884,\n",
       "  'didnotrep': '-',\n",
       "  'didnottenure': '-'},\n",
       " '    $35,000 - $49,999': {'total': 151350,\n",
       "  'wrent': 5852,\n",
       "  'noconf': 44444,\n",
       "  'slightconf': 20082,\n",
       "  'modconf': 32109,\n",
       "  'highconf': 48863,\n",
       "  'deferred': '-',\n",
       "  'didnotrep': '-',\n",
       "  'didnottenure': '-'},\n",
       " '    $50,000 - $74,999': {'total': 178382,\n",
       "  'wrent': 4612,\n",
       "  'noconf': 8699,\n",
       "  'slightconf': 33309,\n",
       "  'modconf': 56388,\n",
       "  'highconf': 75373,\n",
       "  'deferred': '-',\n",
       "  'didnotrep': '-',\n",
       "  'didnottenure': 1489},\n",
       " '    $75,000 - $99,999': {'total': 60764,\n",
       "  'wrent': '-',\n",
       "  'noconf': 15387,\n",
       "  'slightconf': 1161,\n",
       "  'modconf': 9924,\n",
       "  'highconf': 34292,\n",
       "  'deferred': '-',\n",
       "  'didnotrep': '-',\n",
       "  'didnottenure': '-'},\n",
       " '    $100,000 - $149,999': {'total': 45092,\n",
       "  'wrent': 1081,\n",
       "  'noconf': 15542,\n",
       "  'slightconf': '-',\n",
       "  'modconf': 691,\n",
       "  'highconf': 27779,\n",
       "  'deferred': '-',\n",
       "  'didnotrep': '-',\n",
       "  'didnottenure': '-'},\n",
       " '    $150,000 - $199,999': {'total': 12869,\n",
       "  'wrent': 1401,\n",
       "  'noconf': '-',\n",
       "  'slightconf': '-',\n",
       "  'modconf': '-',\n",
       "  'highconf': 11468,\n",
       "  'deferred': '-',\n",
       "  'didnotrep': '-',\n",
       "  'didnottenure': '-'},\n",
       " '    $200,000 and above': {'total': 24697,\n",
       "  'wrent': 16890,\n",
       "  'noconf': '-',\n",
       "  'slightconf': '-',\n",
       "  'modconf': '-',\n",
       "  'highconf': 7807,\n",
       "  'deferred': '-',\n",
       "  'didnotrep': '-',\n",
       "  'didnottenure': '-'}}"
      ]
     },
     "execution_count": 147,
     "metadata": {},
     "output_type": "execute_result"
    }
   ],
   "source": [
    "new_file_AL"
   ]
  },
  {
   "cell_type": "code",
   "execution_count": 145,
   "metadata": {},
   "outputs": [
    {
     "name": "stdout",
     "output_type": "stream",
     "text": [
      "{\"Total\": {\"total\": 1011894, \"wrent\": 102350, \"noconf\": 161904, \"slightconf\": 127657, \"modconf\": 222039, \"highconf\": 389296, \"deferred\": 8649, \"didnotrep\": \"-\", \"didnottenure\": 522654}, \"Age \": {\"total\": null, \"wrent\": null, \"noconf\": null, \"slightconf\": null, \"modconf\": null, \"highconf\": null, \"deferred\": null, \"didnotrep\": null, \"didnottenure\": null}, \"    18 - 24\": {\"total\": 84945, \"wrent\": \"-\", \"noconf\": 23728, \"slightconf\": 2353, \"modconf\": 16179, \"highconf\": 42686, \"deferred\": \"-\", \"didnotrep\": \"-\", \"didnottenure\": 58802}, \"    25 - 39\": {\"total\": 427514, \"wrent\": 45227, \"noconf\": 34220, \"slightconf\": 78833, \"modconf\": 117950, \"highconf\": 143461, \"deferred\": 7823, \"didnotrep\": \"-\", \"didnottenure\": 165714}, \"    40 - 54\": {\"total\": 272380, \"wrent\": 11681, \"noconf\": 67294, \"slightconf\": 28042, \"modconf\": 65132, \"highconf\": 100231, \"deferred\": \"-\", \"didnotrep\": \"-\", \"didnottenure\": 87979}, \"    55 - 64\": {\"total\": 164271, \"wrent\": 26907, \"noconf\": 35173, \"slightconf\": 18430, \"modconf\": 16768, \"highconf\": 66167, \"deferred\": 827, \"didnotrep\": \"-\", \"didnottenure\": 92726}, \"    65 and above\": {\"total\": 62783, \"wrent\": 18534, \"noconf\": 1489, \"slightconf\": \"-\", \"modconf\": 6010, \"highconf\": 36750, \"deferred\": \"-\", \"didnotrep\": \"-\", \"didnottenure\": 117432}, \"Sex \": {\"total\": null, \"wrent\": null, \"noconf\": null, \"slightconf\": null, \"modconf\": null, \"highconf\": null, \"deferred\": null, \"didnotrep\": null, \"didnottenure\": null}, \"    Male\": {\"total\": 406465, \"wrent\": 37012, \"noconf\": 48139, \"slightconf\": 54376, \"modconf\": 80759, \"highconf\": 186179, \"deferred\": \"-\", \"didnotrep\": \"-\", \"didnottenure\": 280558}, \"    Female\": {\"total\": 605429, \"wrent\": 65338, \"noconf\": 113765, \"slightconf\": 73281, \"modconf\": 141279, \"highconf\": 203116, \"deferred\": 8649, \"didnotrep\": \"-\", \"didnottenure\": 242095}, \"Hispanic origin and Race \": {\"total\": null, \"wrent\": null, \"noconf\": null, \"slightconf\": null, \"modconf\": null, \"highconf\": null, \"deferred\": null, \"didnotrep\": null, \"didnottenure\": null}, \"    Hispanic or Latino (may be of any race)\": {\"total\": 96773, \"wrent\": 16890, \"noconf\": 1367, \"slightconf\": 10835, \"modconf\": 48342, \"highconf\": 19339, \"deferred\": \"-\", \"didnotrep\": \"-\", \"didnottenure\": 11853}, \"    White alone, not Hispanic\": {\"total\": 510239, \"wrent\": 65619, \"noconf\": 70545, \"slightconf\": 29725, \"modconf\": 110096, \"highconf\": 232267, \"deferred\": 1988, \"didnotrep\": \"-\", \"didnottenure\": 299493}, \"    Black alone, not Hispanic\": {\"total\": 376215, \"wrent\": 19841, \"noconf\": 81964, \"slightconf\": 85003, \"modconf\": 57798, \"highconf\": 124948, \"deferred\": 6662, \"didnotrep\": \"-\", \"didnottenure\": 203060}, \"    Asian alone, not Hispanic\": {\"total\": 14158, \"wrent\": \"-\", \"noconf\": 7086, \"slightconf\": 2094, \"modconf\": \"-\", \"highconf\": 4978, \"deferred\": \"-\", \"didnotrep\": \"-\", \"didnottenure\": 3294}, \"    Two or more races + Other races, not Hispanic\": {\"total\": 14510, \"wrent\": \"-\", \"noconf\": 942, \"slightconf\": \"-\", \"modconf\": 5803, \"highconf\": 7764, \"deferred\": \"-\", \"didnotrep\": \"-\", \"didnottenure\": 4953}, \"Education \": {\"total\": null, \"wrent\": null, \"noconf\": null, \"slightconf\": null, \"modconf\": null, \"highconf\": null, \"deferred\": null, \"didnotrep\": null, \"didnottenure\": null}, \"    Less than high school\": {\"total\": 144553, \"wrent\": 11952, \"noconf\": 8556, \"slightconf\": 10361, \"modconf\": 89653, \"highconf\": 24032, \"deferred\": \"-\", \"didnotrep\": \"-\", \"didnottenure\": 24802}, \"    High school or GED\": {\"total\": 367909, \"wrent\": 33385, \"noconf\": 81127, \"slightconf\": 57981, \"modconf\": 38445, \"highconf\": 156970, \"deferred\": \"-\", \"didnotrep\": \"-\", \"didnottenure\": 244601}, \"    Some college/associate\\u2019s degree\": {\"total\": 312869, \"wrent\": 30481, \"noconf\": 53175, \"slightconf\": 51638, \"modconf\": 51516, \"highconf\": 117409, \"deferred\": 8649, \"didnotrep\": \"-\", \"didnottenure\": 149510}, \"    Bachelor\\u2019s degree or higher\": {\"total\": 186563, \"wrent\": 26532, \"noconf\": 19046, \"slightconf\": 7677, \"modconf\": 42424, \"highconf\": 90884, \"deferred\": \"-\", \"didnotrep\": \"-\", \"didnottenure\": 103740}, \"Marital status \": {\"total\": null, \"wrent\": null, \"noconf\": null, \"slightconf\": null, \"modconf\": null, \"highconf\": null, \"deferred\": null, \"didnotrep\": null, \"didnottenure\": null}, \"    Married\": {\"total\": 403035, \"wrent\": 35649, \"noconf\": 56448, \"slightconf\": 36907, \"modconf\": 128763, \"highconf\": 145269, \"deferred\": \"-\", \"didnotrep\": \"-\", \"didnottenure\": 236314}, \"    Widowed\": {\"total\": 49038, \"wrent\": \"-\", \"noconf\": 5098, \"slightconf\": \"-\", \"modconf\": 8788, \"highconf\": 35153, \"deferred\": \"-\", \"didnotrep\": \"-\", \"didnottenure\": 6347}, \"    Divorced/separated\": {\"total\": 249744, \"wrent\": 49613, \"noconf\": 47548, \"slightconf\": 25442, \"modconf\": 32521, \"highconf\": 90747, \"deferred\": 3872, \"didnotrep\": \"-\", \"didnottenure\": 63420}, \"    Never married\": {\"total\": 310076, \"wrent\": 17088, \"noconf\": 52810, \"slightconf\": 65307, \"modconf\": 51966, \"highconf\": 118127, \"deferred\": 4778, \"didnotrep\": \"-\", \"didnottenure\": 205475}, \"    Did not report\": {\"total\": 15626, \"wrent\": 2059, \"noconf\": \"-\", \"slightconf\": \"-\", \"modconf\": \"-\", \"highconf\": 13567, \"deferred\": \"-\", \"didnotrep\": \"-\", \"didnottenure\": 521165}, \"Presence of children under 18 years old \": {\"total\": null, \"wrent\": null, \"noconf\": null, \"slightconf\": null, \"modconf\": null, \"highconf\": null, \"deferred\": null, \"didnotrep\": null, \"didnottenure\": null}, \"    Children in household\": {\"total\": 451625, \"wrent\": 37216, \"noconf\": 70557, \"slightconf\": 55031, \"modconf\": 121948, \"highconf\": 160212, \"deferred\": 6662, \"didnotrep\": \"-\", \"didnottenure\": 273408}, \"    No children\": {\"total\": 560269, \"wrent\": 65134, \"noconf\": 91347, \"slightconf\": 72626, \"modconf\": 100091, \"highconf\": 229084, \"deferred\": 1988, \"didnotrep\": \"-\", \"didnottenure\": 249246}, \"Respondent or household member experienced loss of employment income \": {\"total\": null, \"wrent\": null, \"noconf\": null, \"slightconf\": null, \"modconf\": null, \"highconf\": null, \"deferred\": null, \"didnotrep\": null, \"didnottenure\": null}, \"    Yes\": {\"total\": 507220, \"wrent\": 30445, \"noconf\": 105040, \"slightconf\": 52347, \"modconf\": 133555, \"highconf\": 185833, \"deferred\": \"-\", \"didnotrep\": \"-\", \"didnottenure\": 206615}, \"    No\": {\"total\": 500520, \"wrent\": 71904, \"noconf\": 52710, \"slightconf\": 75310, \"modconf\": 88484, \"highconf\": 203462, \"deferred\": 8649, \"didnotrep\": \"-\", \"didnottenure\": 303611}, \"Respondent currently employed \": {\"total\": null, \"wrent\": null, \"noconf\": null, \"slightconf\": null, \"modconf\": null, \"highconf\": null, \"deferred\": null, \"didnotrep\": null, \"didnottenure\": null}, \"Household income \": {\"total\": null, \"wrent\": null, \"noconf\": null, \"slightconf\": null, \"modconf\": null, \"highconf\": null, \"deferred\": null, \"didnotrep\": null, \"didnottenure\": null}, \"    Less than $25,000\": {\"total\": 334967, \"wrent\": 56068, \"noconf\": 62307, \"slightconf\": 57709, \"modconf\": 40333, \"highconf\": 111785, \"deferred\": 6765, \"didnotrep\": \"-\", \"didnottenure\": \"-\"}, \"    $25,000 - $34,999\": {\"total\": 188148, \"wrent\": 14388, \"noconf\": 15526, \"slightconf\": 15396, \"modconf\": 82594, \"highconf\": 58360, \"deferred\": 1884, \"didnotrep\": \"-\", \"didnottenure\": \"-\"}, \"    $35,000 - $49,999\": {\"total\": 151350, \"wrent\": 5852, \"noconf\": 44444, \"slightconf\": 20082, \"modconf\": 32109, \"highconf\": 48863, \"deferred\": \"-\", \"didnotrep\": \"-\", \"didnottenure\": \"-\"}, \"    $50,000 - $74,999\": {\"total\": 178382, \"wrent\": 4612, \"noconf\": 8699, \"slightconf\": 33309, \"modconf\": 56388, \"highconf\": 75373, \"deferred\": \"-\", \"didnotrep\": \"-\", \"didnottenure\": 1489}, \"    $75,000 - $99,999\": {\"total\": 60764, \"wrent\": \"-\", \"noconf\": 15387, \"slightconf\": 1161, \"modconf\": 9924, \"highconf\": 34292, \"deferred\": \"-\", \"didnotrep\": \"-\", \"didnottenure\": \"-\"}, \"    $100,000 - $149,999\": {\"total\": 45092, \"wrent\": 1081, \"noconf\": 15542, \"slightconf\": \"-\", \"modconf\": 691, \"highconf\": 27779, \"deferred\": \"-\", \"didnotrep\": \"-\", \"didnottenure\": \"-\"}, \"    $150,000 - $199,999\": {\"total\": 12869, \"wrent\": 1401, \"noconf\": \"-\", \"slightconf\": \"-\", \"modconf\": \"-\", \"highconf\": 11468, \"deferred\": \"-\", \"didnotrep\": \"-\", \"didnottenure\": \"-\"}, \"    $200,000 and above\": {\"total\": 24697, \"wrent\": 16890, \"noconf\": \"-\", \"slightconf\": \"-\", \"modconf\": \"-\", \"highconf\": 7807, \"deferred\": \"-\", \"didnotrep\": \"-\", \"didnottenure\": \"-\"}}\n"
     ]
    }
   ],
   "source": [
    "import json\n",
    "from openpyxl import load_workbook\n",
    "\n",
    "workbook = load_workbook(filename=\"/Users/nadezdachikurova/Downloads/housing2b_week1.xlsx\")\n",
    "sheet  = workbook.worksheets[1] \n",
    "\n",
    "new_file_AL = {}\n",
    "\n",
    "for row in sheet.iter_rows(min_row=7,\n",
    "                           min_col=0,\n",
    "                           max_col=10,\n",
    "                           values_only=True\n",
    "                          ):\n",
    "    total = row[0]\n",
    "    file = {\n",
    "        \"total\": row[1], # total\n",
    "        \"wrent\": row[2], # occupied without rent\n",
    "        \"noconf\": row[3], # no confidence\n",
    "        \"slightconf\": row[4], # slight confidence\n",
    "        \"modconf\": row[5], # moderate confidence\n",
    "        \"highconf\": row[6], # high confidence\n",
    "        \"deferred\": row[7], # payment is/will be deferred\n",
    "        \"didnotrep\": row[8], # did not report\n",
    "        \"didnottenure\": row[9] # did not report to tenture\n",
    "        \n",
    "    }\n",
    "    new_file_AL[total] = file\n",
    "\n",
    "# Using json here to be able to format the output for displaying later\n",
    "print(json.dumps(new_file_AL))"
   ]
  },
  {
   "cell_type": "code",
   "execution_count": null,
   "metadata": {},
   "outputs": [],
   "source": []
  },
  {
   "cell_type": "code",
   "execution_count": null,
   "metadata": {},
   "outputs": [],
   "source": []
  },
  {
   "cell_type": "code",
   "execution_count": null,
   "metadata": {},
   "outputs": [],
   "source": []
  },
  {
   "cell_type": "code",
   "execution_count": null,
   "metadata": {},
   "outputs": [],
   "source": []
  },
  {
   "cell_type": "code",
   "execution_count": null,
   "metadata": {},
   "outputs": [],
   "source": []
  },
  {
   "cell_type": "code",
   "execution_count": null,
   "metadata": {},
   "outputs": [],
   "source": []
  },
  {
   "cell_type": "code",
   "execution_count": null,
   "metadata": {},
   "outputs": [],
   "source": []
  }
 ],
 "metadata": {
  "kernelspec": {
   "display_name": "Python 3",
   "language": "python",
   "name": "python3"
  },
  "language_info": {
   "codemirror_mode": {
    "name": "ipython",
    "version": 3
   },
   "file_extension": ".py",
   "mimetype": "text/x-python",
   "name": "python",
   "nbconvert_exporter": "python",
   "pygments_lexer": "ipython3",
   "version": "3.7.1"
  }
 },
 "nbformat": 4,
 "nbformat_minor": 2
}
