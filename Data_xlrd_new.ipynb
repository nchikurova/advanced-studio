{
 "cells": [
  {
   "cell_type": "markdown",
   "metadata": {},
   "source": [
    "# Data Manipulation"
   ]
  },
  {
   "cell_type": "markdown",
   "metadata": {},
   "source": [
    "### [Get JSON from Excel using Python, xlrd](https://anthonydebarros.com/2013/02/05/get-json-from-excel-using-python-xlrd/)\n"
   ]
  },
  {
   "cell_type": "code",
   "execution_count": 1,
   "metadata": {},
   "outputs": [],
   "source": [
    "import xlrd"
   ]
  },
  {
   "cell_type": "code",
   "execution_count": 2,
   "metadata": {},
   "outputs": [],
   "source": [
    "# Open the workbook\n",
    "xlrd_file = xlrd.open_workbook('/Users/nadezdachikurova/Downloads/housing2b_week1.xlsx')"
   ]
  },
  {
   "cell_type": "code",
   "execution_count": 3,
   "metadata": {},
   "outputs": [
    {
     "name": "stdout",
     "output_type": "stream",
     "text": [
      "['US', 'AL', 'AK', 'AZ', 'AR', 'CA', 'CO', 'CT', 'DE', 'DC', 'FL', 'GA', 'HI', 'ID', 'IL', 'IN', 'IA', 'KS', 'KY', 'LA', 'ME', 'MD', 'MA', 'MI', 'MN', 'MS', 'MO', 'MT', 'NE', 'NV', 'NH', 'NJ', 'NM', 'NY', 'NC', 'ND', 'OH', 'OK', 'OR', 'PA', 'RI', 'SC', 'SD', 'TN', 'TX', 'UT', 'VT', 'VA', 'WA', 'WV', 'WI', 'WY', 'Boston_Metro_Area', 'Atlanta_Metro_Area', 'Los.Angeles_Metro_Area', 'Phoenix_Metro_Area', 'New.York_Metro_Area', 'San.Francisco_Metro_Area', 'Chicago_Metro_Area', 'Dallas_Metro_Area', 'Riverside_Metro_Area', 'Detroit_Metro_Area', 'Houston_Metro_Area', 'Washington.DC_Metro_Area', 'Philadelphia_Metro_Area', 'Seattle_Metro_Area', 'Miami_Metro_Area']\n"
     ]
    }
   ],
   "source": [
    "# Print the sheet names\n",
    "print (xlrd_file.sheet_names())"
   ]
  },
  {
   "cell_type": "code",
   "execution_count": 4,
   "metadata": {},
   "outputs": [
    {
     "name": "stdout",
     "output_type": "stream",
     "text": [
      "<xlrd.sheet.Sheet object at 0x7f8bcb1660b8>\n"
     ]
    }
   ],
   "source": [
    "# Get the first sheet either by index or by name\n",
    "print(xlrd_file.sheet_by_index(1))"
   ]
  },
  {
   "cell_type": "code",
   "execution_count": 5,
   "metadata": {},
   "outputs": [
    {
     "data": {
      "text/plain": [
       "<xlrd.sheet.Sheet at 0x7f8bcb1d1390>"
      ]
     },
     "execution_count": 5,
     "metadata": {},
     "output_type": "execute_result"
    }
   ],
   "source": [
    "sh = xlrd_file.sheet_by_index(0)\n",
    "sh"
   ]
  },
  {
   "cell_type": "code",
   "execution_count": 6,
   "metadata": {},
   "outputs": [
    {
     "name": "stdout",
     "output_type": "stream",
     "text": [
      "[\"Housing Table 2b. Confidence in Ability to Make Next Month's Payment for Renter-Occupied Housing Units, by Select Characteristics: United States\", '', '', '', '', '', '', '', '', '']\n",
      "['Source: U.S. Census Bureau Household Pulse Survey, Week 1.', '', '', '', '', '', '', '', '', '']\n",
      "['Total Population 18 Years and Older in Renter-Occupied Housing Units', '', '', '', '', '', '', '', '', '']\n",
      "['Select characteristics', 'Total', 'Occupied without rent', 'Confidence to pay next month’s rent', 'Confidence to pay next month’s rent', 'Confidence to pay next month’s rent', 'Confidence to pay next month’s rent', 'Confidence to pay next month’s rent', 'Confidence to pay next month’s rent', 'Did not report to tenure']\n",
      "['', '', '', 'No confidence', 'Slight confidence', 'Moderate confidence', 'High confidence', 'Payment is/will be deferred', 'Did not report', '']\n",
      "['', '', '', '', '', '', '', '', '', '']\n",
      "['Total', 75266101.0, 3798689.0, 8918242.0, 12571649.0, 18070862.0, 30643777.0, 938815.0, 324066.0, 26676331.0]\n",
      "['Age ', '', '', '', '', '', '', '', '', '']\n",
      "['    18 - 24', 7313446.0, 286454.0, 639268.0, 1172462.0, 2366278.0, 2756071.0, 72011.0, 20902.0, 2625570.0]\n",
      "['    25 - 39', 33959243.0, 1546625.0, 4399374.0, 5968053.0, 7623589.0, 13842252.0, 500551.0, 78798.0, 8137828.0]\n",
      "['    40 - 54', 17607031.0, 969268.0, 2469898.0, 3292263.0, 4272341.0, 6251731.0, 282027.0, 69504.0, 6160146.0]\n",
      "['    55 - 64', 9157888.0, 501794.0, 989617.0, 1423160.0, 2213671.0, 3897265.0, 51138.0, 81243.0, 4476699.0]\n",
      "['    65 and above', 7228493.0, 494549.0, 420084.0, 715712.0, 1594982.0, 3896458.0, 33088.0, 73620.0, 5276088.0]\n",
      "['Sex ', '', '', '', '', '', '', '', '', '']\n",
      "['    Male', 34772104.0, 1917582.0, 4169523.0, 5147850.0, 8134709.0, 14857509.0, 514882.0, 30049.0, 11927883.0]\n",
      "['    Female', 40493997.0, 1881108.0, 4748719.0, 7423800.0, 9936152.0, 15786268.0, 423933.0, 294018.0, 14748448.0]\n",
      "['Hispanic origin and Race ', '', '', '', '', '', '', '', '', '']\n",
      "['    Hispanic or Latino (may be of any race)', 16075749.0, 708252.0, 2723391.0, 3765786.0, 4289939.0, 4383535.0, 115420.0, 89427.0, 5834066.0]\n",
      "['    White alone, not Hispanic', 37772948.0, 2119711.0, 3020518.0, 4193252.0, 8471643.0, 19355953.0, 528322.0, 83550.0, 14293951.0]\n",
      "['    Black alone, not Hispanic', 14221712.0, 650218.0, 2331905.0, 3340880.0, 3580659.0, 3952208.0, 220040.0, 145803.0, 4084623.0]\n",
      "['    Asian alone, not Hispanic', 3215458.0, 122829.0, 308873.0, 626124.0, 609280.0, 1530841.0, 16760.0, 751.0, 1400182.0]\n",
      "['    Two or more races + Other races, not Hispanic', 3980236.0, 197681.0, 533556.0, 645608.0, 1119341.0, 1421240.0, 58273.0, 4536.0, 1063508.0]\n",
      "['Education ', '', '', '', '', '', '', '', '', '']\n",
      "['    Less than high school', 7630908.0, 513201.0, 1482489.0, 1871459.0, 1973579.0, 1588923.0, 55419.0, 145838.0, 3033298.0]\n",
      "['    High school or GED', 26587535.0, 1279935.0, 3706781.0, 5046450.0, 6599701.0, 9522006.0, 343938.0, 88723.0, 10016935.0]\n",
      "['    Some college/associate’s degree', 24354295.0, 1322092.0, 2792612.0, 4232609.0, 6489522.0, 9112126.0, 332959.0, 72375.0, 7735679.0]\n",
      "['    Bachelor’s degree or higher', 16693364.0, 683462.0, 936360.0, 1421132.0, 3008059.0, 10420722.0, 206499.0, 17130.0, 5890419.0]\n",
      "['Marital status ', '', '', '', '', '', '', '', '', '']\n",
      "['    Married', 25834503.0, 1177934.0, 2965813.0, 3819950.0, 5805097.0, 11777371.0, 219162.0, 69175.0, 12803992.0]\n",
      "['    Widowed', 2202944.0, 129374.0, 222984.0, 349965.0, 382827.0, 1104429.0, 12613.0, 751.0, 1533592.0]\n",
      "['    Divorced/separated', 15201104.0, 935960.0, 1930192.0, 2694637.0, 3655383.0, 5611630.0, 259105.0, 114198.0, 3731480.0]\n",
      "['    Never married', 31865484.0, 1503222.0, 3791412.0, 5677647.0, 8207982.0, 12112585.0, 447936.0, 124700.0, 7489643.0]\n",
      "['    Did not report', 162066.0, 52199.0, 7842.0, 29451.0, 19572.0, 37762.0, '-', 15241.0, 1117623.0]\n",
      "['Presence of children under 18 years old ', '', '', '', '', '', '', '', '', '']\n",
      "['    Children in household', 32906303.0, 1723646.0, 5027156.0, 6777250.0, 8111053.0, 10689768.0, 452199.0, 125231.0, 11427501.0]\n",
      "['    No children', 42359798.0, 2075043.0, 3891086.0, 5794399.0, 9959809.0, 19954009.0, 486617.0, 198836.0, 15248829.0]\n",
      "['Respondent or household member experienced loss of employment income ', '', '', '', '', '', '', '', '', '']\n",
      "['    Yes', 41321638.0, 2021026.0, 7408049.0, 9045115.0, 10963049.0, 11226544.0, 492088.0, 165766.0, 12672258.0]\n",
      "['    No', 33841565.0, 1776290.0, 1510193.0, 3520496.0, 7098074.0, 19333237.0, 446727.0, 156548.0, 12877152.0]\n",
      "['    Did not report', 102898.0, 1373.0, '-', 6038.0, 9738.0, 83997.0, '-', 1752.0, 1126920.0]\n",
      "['Respondent currently employed ', '', '', '', '', '', '', '', '', '']\n",
      "['    Yes', 39313969.0, 1352887.0, 3021359.0, 5671822.0, 9241154.0, 19426974.0, 524342.0, 75432.0, 12821000.0]\n",
      "['    No', 35828698.0, 2443357.0, 5885026.0, 6862370.0, 8827869.0, 11148719.0, 414473.0, 246882.0, 12471720.0]\n",
      "['    Did not report', 123434.0, 2445.0, 11857.0, 37457.0, 1838.0, 68084.0, '-', 1752.0, 1383610.0]\n",
      "['Household income ', '', '', '', '', '', '', '', '', '']\n",
      "['    Less than $25,000', 21689403.0, 1670355.0, 3674597.0, 4503163.0, 5662511.0, 5753678.0, 356632.0, 68466.0, 154249.0]\n",
      "['    $25,000 - $34,999', 12988376.0, 783383.0, 1737369.0, 2787412.0, 3398243.0, 4204783.0, 77185.0, '-', 66443.0]\n",
      "['    $35,000 - $49,999', 11602952.0, 376157.0, 1545670.0, 2066892.0, 3066365.0, 4479861.0, 68006.0, '-', 40117.0]\n",
      "['    $50,000 - $74,999', 11880529.0, 359512.0, 1149608.0, 1853850.0, 2877970.0, 5474198.0, 164259.0, 1131.0, 104523.0]\n",
      "['    $75,000 - $99,999', 6442384.0, 205200.0, 394303.0, 711095.0, 1269592.0, 3773428.0, 88765.0, '-', 33749.0]\n",
      "['    $100,000 - $149,999', 5653816.0, 188250.0, 187964.0, 310039.0, 1136326.0, 3678059.0, 96797.0, 56380.0, 22708.0]\n",
      "['    $150,000 - $199,999', 1708519.0, 51620.0, 47277.0, 56030.0, 204079.0, 1336142.0, 13371.0, '-', 11099.0]\n",
      "['    $200,000 and above', 1467499.0, 51832.0, 6968.0, 26299.0, 94045.0, 1260841.0, 27513.0, '-', 15879.0]\n",
      "['    Did not report', 1832624.0, 112379.0, 174485.0, 256869.0, 361729.0, 682788.0, 46285.0, 198089.0, 26227564.0]\n"
     ]
    }
   ],
   "source": [
    "# Iterate through rows, returning each as a list that you can index:\n",
    "for rownum in range(sh.nrows):\n",
    "    print (sh.row_values(rownum))"
   ]
  },
  {
   "cell_type": "code",
   "execution_count": 7,
   "metadata": {},
   "outputs": [],
   "source": [
    "# n_sh = sh.row_values(rownum).iloc[3:]\n",
    "# n_sh"
   ]
  },
  {
   "cell_type": "code",
   "execution_count": 8,
   "metadata": {},
   "outputs": [
    {
     "name": "stdout",
     "output_type": "stream",
     "text": [
      "[\"Housing Table 2b. Confidence in Ability to Make Next Month's Payment for Renter-Occupied Housing Units, by Select Characteristics: United States\", 'Source: U.S. Census Bureau Household Pulse Survey, Week 1.', 'Total Population 18 Years and Older in Renter-Occupied Housing Units', 'Select characteristics', '', '', 'Total', 'Age ', '    18 - 24', '    25 - 39', '    40 - 54', '    55 - 64', '    65 and above', 'Sex ', '    Male', '    Female', 'Hispanic origin and Race ', '    Hispanic or Latino (may be of any race)', '    White alone, not Hispanic', '    Black alone, not Hispanic', '    Asian alone, not Hispanic', '    Two or more races + Other races, not Hispanic', 'Education ', '    Less than high school', '    High school or GED', '    Some college/associate’s degree', '    Bachelor’s degree or higher', 'Marital status ', '    Married', '    Widowed', '    Divorced/separated', '    Never married', '    Did not report', 'Presence of children under 18 years old ', '    Children in household', '    No children', 'Respondent or household member experienced loss of employment income ', '    Yes', '    No', '    Did not report', 'Respondent currently employed ', '    Yes', '    No', '    Did not report', 'Household income ', '    Less than $25,000', '    $25,000 - $34,999', '    $35,000 - $49,999', '    $50,000 - $74,999', '    $75,000 - $99,999', '    $100,000 - $149,999', '    $150,000 - $199,999', '    $200,000 and above', '    Did not report']\n"
     ]
    }
   ],
   "source": [
    "# If you just want the first column:\n",
    "first_column = sh.col_values(0)\n",
    "print (first_column)"
   ]
  },
  {
   "cell_type": "code",
   "execution_count": 9,
   "metadata": {},
   "outputs": [
    {
     "name": "stdout",
     "output_type": "stream",
     "text": [
      "Occupied without rent\n"
     ]
    }
   ],
   "source": [
    "# Index individual cells:\n",
    "cell_c4 = sh.cell(3, 2).value\n",
    "# Or you can use:\n",
    "#cell_c4 = sh.cell(rowx=3, colx=2).value\n",
    "print (cell_c4)"
   ]
  },
  {
   "cell_type": "code",
   "execution_count": 24,
   "metadata": {},
   "outputs": [],
   "source": [
    "import json"
   ]
  },
  {
   "cell_type": "code",
   "execution_count": 26,
   "metadata": {},
   "outputs": [],
   "source": [
    "data = {}"
   ]
  },
  {
   "cell_type": "code",
   "execution_count": 40,
   "metadata": {},
   "outputs": [],
   "source": [
    "data = \"{\""
   ]
  },
  {
   "cell_type": "code",
   "execution_count": 57,
   "metadata": {
    "scrolled": false
   },
   "outputs": [
    {
     "name": "stdout",
     "output_type": "stream",
     "text": [
      "\"state\":\"US\"\n",
      "\"state\":\"AL\"\n",
      "\"state\":\"AK\"\n",
      "\"state\":\"AZ\"\n",
      "\"state\":\"AR\"\n",
      "\"state\":\"CA\"\n",
      "\"state\":\"CO\"\n",
      "\"state\":\"CT\"\n",
      "\"state\":\"DE\"\n",
      "\"state\":\"DC\"\n",
      "\"state\":\"FL\"\n",
      "\"state\":\"GA\"\n",
      "\"state\":\"HI\"\n",
      "\"state\":\"ID\"\n",
      "\"state\":\"IL\"\n",
      "\"state\":\"IN\"\n",
      "\"state\":\"IA\"\n",
      "\"state\":\"KS\"\n",
      "\"state\":\"KY\"\n",
      "\"state\":\"LA\"\n",
      "\"state\":\"ME\"\n",
      "\"state\":\"MD\"\n",
      "\"state\":\"MA\"\n",
      "\"state\":\"MI\"\n",
      "\"state\":\"MN\"\n",
      "\"state\":\"MS\"\n",
      "\"state\":\"MO\"\n",
      "\"state\":\"MT\"\n",
      "\"state\":\"NE\"\n",
      "\"state\":\"NV\"\n",
      "\"state\":\"NH\"\n",
      "\"state\":\"NJ\"\n",
      "\"state\":\"NM\"\n",
      "\"state\":\"NY\"\n",
      "\"state\":\"NC\"\n",
      "\"state\":\"ND\"\n",
      "\"state\":\"OH\"\n",
      "\"state\":\"OK\"\n",
      "\"state\":\"OR\"\n",
      "\"state\":\"PA\"\n",
      "\"state\":\"RI\"\n",
      "\"state\":\"SC\"\n",
      "\"state\":\"SD\"\n",
      "\"state\":\"TN\"\n",
      "\"state\":\"TX\"\n",
      "\"state\":\"UT\"\n",
      "\"state\":\"VT\"\n",
      "\"state\":\"VA\"\n",
      "\"state\":\"WA\"\n",
      "\"state\":\"WV\"\n",
      "\"state\":\"WI\"\n"
     ]
    }
   ],
   "source": [
    "# Let's say you want the same cell from x identical sheets in a workbook:\n",
    "x = 0\n",
    "while x <= 50:\n",
    "\n",
    "    sh = xlrd_file.sheet_by_index(x)\n",
    "    #data['state'] = sh.name\n",
    "    \n",
    "    state = '\"state\":\"' + sh.name + '\"'\n",
    "    data = data + state + \",\"\n",
    "#     if x == 51:\n",
    "#         data = data + state + \"}\"\n",
    "#     else: data = data + state + \",\"\n",
    "    print(state)\n",
    "    #print(data)\n",
    "    row = sh.row(0)\n",
    "#     for row in range(8,13):\n",
    "#         print (sh.row(row))\n",
    "    #cell_x = sh.cell(2, 3).value\n",
    "    #print (cell_x)\n",
    "    #print(sh)\n",
    "    #print(row) # row 12\n",
    "    x = x + 1\n",
    "#     print(x)"
   ]
  },
  {
   "cell_type": "code",
   "execution_count": 59,
   "metadata": {},
   "outputs": [
    {
     "name": "stdout",
     "output_type": "stream",
     "text": [
      ",\n"
     ]
    }
   ],
   "source": [
    "print(data[len(data)- 1])\n",
    "# print(sh)\n",
    "# print(row)"
   ]
  }
 ],
 "metadata": {
  "kernelspec": {
   "display_name": "Python 3",
   "language": "python",
   "name": "python3"
  },
  "language_info": {
   "codemirror_mode": {
    "name": "ipython",
    "version": 3
   },
   "file_extension": ".py",
   "mimetype": "text/x-python",
   "name": "python",
   "nbconvert_exporter": "python",
   "pygments_lexer": "ipython3",
   "version": "3.7.1"
  }
 },
 "nbformat": 4,
 "nbformat_minor": 2
}
